{
 "cells": [
  {
   "cell_type": "code",
   "execution_count": 1,
   "metadata": {},
   "outputs": [
    {
     "name": "stdout",
     "output_type": "stream",
     "text": [
      "Maximum sum: 40\n",
      "Subarray with the largest sum: [-10, 20, 30]\n"
     ]
    }
   ],
   "source": [
    "def find_largest_sum_subarray(array_2d):\n",
    "    max_sum = 0  # Initialize to negative infinity\n",
    "    max_subarray = [ ]\n",
    "\n",
    "    for subarray in array_2d:\n",
    "        current_sum = sum(subarray)  # Calculate the sum of the current subarray\n",
    "        if current_sum > max_sum:\n",
    "            max_sum = current_sum\n",
    "            max_subarray = subarray\n",
    "\n",
    "    return max_sum, max_subarray                                                                                            \n",
    "\n",
    "# Example usage\n",
    "array_2d = [\n",
    "    [1, 2, 3],\n",
    "    [4, 5, 6],\n",
    "    [7, 8, 9],\n",
    "    [-10, 20, 30]\n",
    "]\n",
    "\n",
    "max_sum, max_subarray = find_largest_sum_subarray(array_2d)\n",
    "print(f\"Maximum sum: {max_sum}\")\n",
    "print(f\"Subarray with the largest sum: {max_subarray}\")"
   ]
  },
  {
   "cell_type": "code",
   "execution_count": 2,
   "metadata": {},
   "outputs": [
    {
     "ename": "ValueError",
     "evalue": "invalid literal for int() with base 10: 'jh'",
     "output_type": "error",
     "traceback": [
      "\u001b[0;31m---------------------------------------------------------------------------\u001b[0m",
      "\u001b[0;31mValueError\u001b[0m                                Traceback (most recent call last)",
      "Cell \u001b[0;32mIn[2], line 20\u001b[0m\n\u001b[1;32m     18\u001b[0m     \u001b[38;5;28;01mreturn\u001b[39;00m items\n\u001b[1;32m     19\u001b[0m \u001b[38;5;66;03m# Call the function\u001b[39;00m\n\u001b[0;32m---> 20\u001b[0m affordable_items \u001b[38;5;241m=\u001b[39m \u001b[43mget_afford_items\u001b[49m\u001b[43m(\u001b[49m\u001b[43m)\u001b[49m\n\u001b[1;32m     21\u001b[0m \u001b[38;5;28mprint\u001b[39m(\u001b[38;5;124m\"\u001b[39m\u001b[38;5;124mYou can afford:\u001b[39m\u001b[38;5;124m\"\u001b[39m, affordable_items)\n",
      "Cell \u001b[0;32mIn[2], line 11\u001b[0m, in \u001b[0;36mget_afford_items\u001b[0;34m()\u001b[0m\n\u001b[1;32m      1\u001b[0m \u001b[38;5;28;01mdef\u001b[39;00m \u001b[38;5;21mget_afford_items\u001b[39m():\n\u001b[1;32m      2\u001b[0m     PricePair \u001b[38;5;241m=\u001b[39m {\n\u001b[1;32m      3\u001b[0m         \u001b[38;5;124m'\u001b[39m\u001b[38;5;124mSMART WATCH\u001b[39m\u001b[38;5;124m'\u001b[39m: \u001b[38;5;241m550\u001b[39m,\n\u001b[1;32m      4\u001b[0m         \u001b[38;5;124m'\u001b[39m\u001b[38;5;124mPHONE\u001b[39m\u001b[38;5;124m'\u001b[39m: \u001b[38;5;241m1000\u001b[39m,\n\u001b[0;32m   (...)\u001b[0m\n\u001b[1;32m      8\u001b[0m         \u001b[38;5;124m'\u001b[39m\u001b[38;5;124mTABLET\u001b[39m\u001b[38;5;124m'\u001b[39m: \u001b[38;5;241m400\u001b[39m\n\u001b[1;32m      9\u001b[0m     }\n\u001b[0;32m---> 11\u001b[0m     price \u001b[38;5;241m=\u001b[39m \u001b[38;5;28;43mint\u001b[39;49m\u001b[43m(\u001b[49m\u001b[38;5;28;43minput\u001b[39;49m\u001b[43m(\u001b[49m\u001b[43m)\u001b[49m\u001b[43m)\u001b[49m\n\u001b[1;32m     12\u001b[0m     items \u001b[38;5;241m=\u001b[39m [ ]\n\u001b[1;32m     14\u001b[0m     \u001b[38;5;28;01mfor\u001b[39;00m item, item_price \u001b[38;5;129;01min\u001b[39;00m PricePair\u001b[38;5;241m.\u001b[39mitems():\n",
      "\u001b[0;31mValueError\u001b[0m: invalid literal for int() with base 10: 'jh'"
     ]
    }
   ],
   "source": [
    "def get_afford_items():\n",
    "    PricePair = {\n",
    "        'SMART WATCH': 550,\n",
    "        'PHONE': 1000,\n",
    "        'PLAYSTATION': 500,\n",
    "        'LAPTOP': 1550,\n",
    "        'MUSIC PLAYER': 600,\n",
    "        'TABLET': 400\n",
    "    }\n",
    "    \n",
    "    price = int(input())\n",
    "    items = [ ]\n",
    "\n",
    "    for item, item_price in PricePair.items():\n",
    "        if item_price <= price:\n",
    "            items.append(item)\n",
    "    \n",
    "    return items\n",
    "# Call the function\n",
    "affordable_items = get_afford_items()\n",
    "print(\"You can afford:\", affordable_items)"
   ]
  },
  {
   "cell_type": "code",
   "execution_count": 10,
   "metadata": {},
   "outputs": [
    {
     "name": "stdout",
     "output_type": "stream",
     "text": [
      "000\n",
      "001\n",
      "002\n",
      "003\n",
      "004\n",
      "005\n",
      "006\n",
      "007\n",
      "008\n",
      "009\n",
      "010\n",
      "011\n",
      "012\n",
      "013\n",
      "014\n",
      "015\n",
      "016\n",
      "017\n",
      "018\n",
      "019\n",
      "020\n",
      "021\n",
      "022\n",
      "023\n",
      "024\n",
      "025\n",
      "026\n",
      "027\n",
      "028\n",
      "029\n",
      "030\n",
      "031\n",
      "032\n",
      "033\n",
      "034\n",
      "035\n",
      "036\n",
      "037\n",
      "038\n",
      "039\n",
      "040\n",
      "041\n",
      "042\n",
      "043\n",
      "044\n",
      "045\n",
      "046\n",
      "047\n",
      "048\n",
      "049\n",
      "050\n",
      "051\n",
      "052\n",
      "053\n",
      "054\n",
      "055\n",
      "056\n",
      "057\n",
      "058\n",
      "059\n",
      "060\n",
      "061\n",
      "062\n",
      "063\n",
      "064\n",
      "065\n",
      "066\n",
      "067\n",
      "068\n",
      "069\n",
      "070\n",
      "071\n",
      "072\n",
      "073\n",
      "074\n",
      "075\n",
      "076\n",
      "077\n",
      "078\n",
      "079\n",
      "080\n",
      "081\n",
      "082\n",
      "083\n",
      "084\n",
      "085\n",
      "086\n",
      "087\n",
      "088\n",
      "089\n",
      "090\n",
      "091\n",
      "092\n",
      "093\n",
      "094\n",
      "095\n",
      "096\n",
      "097\n",
      "098\n",
      "099\n",
      "100\n",
      "101\n",
      "102\n",
      "103\n",
      "104\n",
      "105\n",
      "106\n",
      "107\n",
      "108\n",
      "109\n",
      "110\n",
      "111\n",
      "112\n",
      "113\n",
      "114\n",
      "115\n",
      "116\n",
      "117\n",
      "118\n",
      "119\n",
      "120\n",
      "121\n",
      "122\n",
      "123\n",
      "124\n",
      "125\n",
      "126\n",
      "127\n",
      "128\n",
      "129\n",
      "130\n",
      "131\n",
      "132\n",
      "133\n",
      "134\n",
      "135\n",
      "136\n",
      "137\n",
      "138\n",
      "139\n",
      "140\n",
      "141\n",
      "142\n",
      "143\n",
      "144\n",
      "145\n",
      "146\n",
      "147\n",
      "148\n",
      "149\n",
      "150\n",
      "151\n",
      "152\n",
      "153\n",
      "154\n",
      "155\n",
      "156\n",
      "157\n",
      "158\n",
      "159\n",
      "160\n",
      "161\n",
      "162\n",
      "163\n",
      "164\n",
      "165\n",
      "166\n",
      "167\n",
      "168\n",
      "169\n",
      "170\n",
      "171\n",
      "172\n",
      "173\n",
      "174\n",
      "175\n",
      "176\n",
      "177\n",
      "178\n",
      "179\n",
      "180\n",
      "181\n",
      "182\n",
      "183\n",
      "184\n",
      "185\n",
      "186\n",
      "187\n",
      "188\n",
      "189\n",
      "190\n",
      "191\n",
      "192\n",
      "193\n",
      "194\n",
      "195\n",
      "196\n",
      "197\n",
      "198\n",
      "199\n",
      "200\n",
      "201\n",
      "202\n",
      "203\n",
      "204\n",
      "205\n",
      "206\n",
      "207\n",
      "208\n",
      "209\n",
      "210\n",
      "211\n",
      "212\n",
      "213\n",
      "214\n",
      "215\n",
      "216\n",
      "217\n",
      "218\n",
      "219\n",
      "220\n",
      "221\n",
      "222\n",
      "223\n",
      "224\n",
      "225\n",
      "226\n",
      "227\n",
      "228\n",
      "229\n",
      "230\n",
      "231\n",
      "232\n",
      "233\n",
      "234\n",
      "235\n",
      "236\n",
      "237\n",
      "238\n",
      "239\n",
      "240\n",
      "241\n",
      "242\n",
      "243\n",
      "244\n",
      "245\n",
      "246\n",
      "247\n",
      "248\n",
      "249\n",
      "250\n",
      "251\n",
      "252\n",
      "253\n",
      "254\n",
      "255\n",
      "256\n",
      "257\n",
      "258\n",
      "259\n",
      "260\n",
      "261\n",
      "262\n",
      "263\n",
      "264\n",
      "265\n",
      "266\n",
      "267\n",
      "268\n",
      "269\n",
      "270\n",
      "271\n",
      "272\n",
      "273\n",
      "274\n",
      "275\n",
      "276\n",
      "277\n",
      "278\n",
      "279\n",
      "280\n",
      "281\n",
      "282\n",
      "283\n",
      "284\n",
      "285\n",
      "286\n",
      "287\n",
      "288\n",
      "289\n",
      "290\n",
      "291\n",
      "292\n",
      "293\n",
      "294\n",
      "295\n",
      "296\n",
      "297\n",
      "298\n",
      "299\n",
      "300\n",
      "301\n",
      "302\n",
      "303\n",
      "304\n",
      "305\n",
      "306\n",
      "307\n",
      "308\n",
      "309\n",
      "310\n",
      "311\n",
      "312\n",
      "313\n",
      "314\n",
      "315\n",
      "316\n",
      "317\n",
      "318\n",
      "319\n",
      "320\n",
      "321\n",
      "322\n",
      "323\n",
      "324\n",
      "325\n",
      "326\n",
      "327\n",
      "328\n",
      "329\n",
      "330\n",
      "331\n",
      "332\n",
      "333\n",
      "334\n",
      "335\n",
      "336\n",
      "337\n",
      "338\n",
      "339\n",
      "340\n",
      "341\n",
      "342\n",
      "343\n",
      "344\n",
      "345\n",
      "346\n",
      "347\n",
      "348\n",
      "349\n",
      "350\n",
      "351\n",
      "352\n",
      "353\n",
      "354\n",
      "355\n",
      "356\n",
      "357\n",
      "358\n",
      "359\n",
      "360\n",
      "361\n",
      "362\n",
      "363\n",
      "364\n",
      "365\n",
      "366\n",
      "367\n",
      "368\n",
      "369\n",
      "370\n",
      "371\n",
      "372\n",
      "373\n",
      "374\n",
      "375\n",
      "376\n",
      "377\n",
      "378\n",
      "379\n",
      "380\n",
      "381\n",
      "382\n",
      "383\n",
      "384\n",
      "385\n",
      "386\n",
      "387\n",
      "388\n",
      "389\n",
      "390\n",
      "391\n",
      "392\n",
      "393\n",
      "394\n",
      "395\n",
      "396\n",
      "397\n",
      "398\n",
      "399\n",
      "400\n",
      "401\n",
      "402\n",
      "403\n",
      "404\n",
      "405\n",
      "406\n",
      "407\n",
      "408\n",
      "409\n",
      "410\n",
      "411\n",
      "412\n",
      "413\n",
      "414\n",
      "415\n",
      "416\n",
      "417\n",
      "418\n",
      "419\n",
      "420\n",
      "421\n",
      "422\n",
      "423\n",
      "424\n",
      "425\n",
      "426\n",
      "427\n",
      "428\n",
      "429\n",
      "430\n",
      "431\n",
      "432\n",
      "433\n",
      "434\n",
      "435\n",
      "436\n",
      "437\n",
      "438\n",
      "439\n",
      "440\n",
      "441\n",
      "442\n",
      "443\n",
      "444\n",
      "445\n",
      "446\n",
      "447\n",
      "448\n",
      "449\n",
      "450\n",
      "451\n",
      "452\n",
      "453\n",
      "454\n",
      "455\n",
      "456\n",
      "457\n",
      "458\n",
      "459\n",
      "460\n",
      "461\n",
      "462\n",
      "463\n",
      "464\n",
      "465\n",
      "466\n",
      "467\n",
      "468\n",
      "469\n",
      "470\n",
      "471\n",
      "472\n",
      "473\n",
      "474\n",
      "475\n",
      "476\n",
      "477\n",
      "478\n",
      "479\n",
      "480\n",
      "481\n",
      "482\n",
      "483\n",
      "484\n",
      "485\n",
      "486\n",
      "487\n",
      "488\n",
      "489\n",
      "490\n",
      "491\n",
      "492\n",
      "493\n",
      "494\n",
      "495\n",
      "496\n",
      "497\n",
      "498\n",
      "499\n",
      "500\n",
      "501\n",
      "502\n",
      "503\n",
      "504\n",
      "505\n",
      "506\n",
      "507\n",
      "508\n",
      "509\n",
      "510\n",
      "511\n",
      "512\n",
      "513\n",
      "514\n",
      "515\n",
      "516\n",
      "517\n",
      "518\n",
      "519\n",
      "520\n",
      "521\n",
      "522\n",
      "523\n",
      "524\n",
      "525\n",
      "526\n",
      "527\n",
      "528\n",
      "529\n",
      "530\n",
      "531\n",
      "532\n",
      "533\n",
      "534\n",
      "535\n",
      "536\n",
      "537\n",
      "538\n",
      "539\n",
      "540\n",
      "541\n",
      "542\n",
      "543\n",
      "544\n",
      "545\n",
      "546\n",
      "547\n",
      "548\n",
      "549\n",
      "550\n",
      "551\n",
      "552\n",
      "553\n",
      "554\n",
      "555\n",
      "556\n",
      "557\n",
      "558\n",
      "559\n",
      "560\n",
      "561\n",
      "562\n",
      "563\n",
      "564\n",
      "565\n",
      "566\n",
      "567\n",
      "568\n",
      "569\n",
      "570\n",
      "571\n",
      "572\n",
      "573\n",
      "574\n",
      "575\n",
      "576\n",
      "577\n",
      "578\n",
      "579\n",
      "580\n",
      "581\n",
      "582\n",
      "583\n",
      "584\n",
      "585\n",
      "586\n",
      "587\n",
      "588\n",
      "589\n",
      "590\n",
      "591\n",
      "592\n",
      "593\n",
      "594\n",
      "595\n",
      "596\n",
      "597\n",
      "598\n",
      "599\n",
      "600\n",
      "601\n",
      "602\n",
      "603\n",
      "604\n",
      "605\n",
      "606\n",
      "607\n",
      "608\n",
      "609\n",
      "610\n",
      "611\n",
      "612\n",
      "613\n",
      "614\n",
      "615\n",
      "616\n",
      "617\n",
      "618\n",
      "619\n",
      "620\n",
      "621\n",
      "622\n",
      "623\n",
      "624\n",
      "625\n",
      "626\n",
      "627\n",
      "628\n",
      "629\n",
      "630\n",
      "631\n",
      "632\n",
      "633\n",
      "634\n",
      "635\n",
      "636\n",
      "637\n",
      "638\n",
      "639\n",
      "640\n",
      "641\n",
      "642\n",
      "643\n",
      "644\n",
      "645\n",
      "646\n",
      "647\n",
      "648\n",
      "649\n",
      "650\n",
      "651\n",
      "652\n",
      "653\n",
      "654\n",
      "655\n",
      "656\n",
      "657\n",
      "658\n",
      "659\n",
      "660\n",
      "661\n",
      "662\n",
      "663\n",
      "664\n",
      "665\n",
      "666\n",
      "667\n",
      "668\n",
      "669\n",
      "670\n",
      "671\n",
      "672\n",
      "673\n",
      "674\n",
      "675\n",
      "676\n",
      "677\n",
      "678\n",
      "679\n",
      "680\n",
      "681\n",
      "682\n",
      "683\n",
      "684\n",
      "685\n",
      "686\n",
      "687\n",
      "688\n",
      "689\n",
      "690\n",
      "691\n",
      "692\n",
      "693\n",
      "694\n",
      "695\n",
      "696\n",
      "697\n",
      "698\n",
      "699\n",
      "700\n",
      "701\n",
      "702\n",
      "703\n",
      "704\n",
      "705\n",
      "706\n",
      "707\n",
      "708\n",
      "709\n",
      "710\n",
      "711\n",
      "712\n",
      "713\n",
      "714\n",
      "715\n",
      "716\n",
      "717\n",
      "718\n",
      "719\n",
      "720\n",
      "721\n",
      "722\n",
      "723\n",
      "724\n",
      "725\n",
      "726\n",
      "727\n",
      "728\n",
      "729\n",
      "730\n",
      "731\n",
      "732\n",
      "733\n",
      "734\n",
      "735\n",
      "736\n",
      "737\n",
      "738\n",
      "739\n",
      "740\n",
      "741\n",
      "742\n",
      "743\n",
      "744\n",
      "745\n",
      "746\n",
      "747\n",
      "748\n",
      "749\n",
      "750\n",
      "751\n",
      "752\n",
      "753\n",
      "754\n",
      "755\n",
      "756\n",
      "757\n",
      "758\n",
      "759\n",
      "760\n",
      "761\n",
      "762\n",
      "763\n",
      "764\n",
      "765\n",
      "766\n",
      "767\n",
      "768\n",
      "769\n",
      "770\n",
      "771\n",
      "772\n",
      "773\n",
      "774\n",
      "775\n",
      "776\n",
      "777\n",
      "778\n",
      "779\n",
      "780\n",
      "781\n",
      "782\n",
      "783\n",
      "784\n",
      "785\n",
      "786\n",
      "787\n",
      "788\n",
      "789\n",
      "790\n",
      "791\n",
      "792\n",
      "793\n",
      "794\n",
      "795\n",
      "796\n",
      "797\n",
      "798\n",
      "799\n",
      "800\n",
      "801\n",
      "802\n",
      "803\n",
      "804\n",
      "805\n",
      "806\n",
      "807\n",
      "808\n",
      "809\n",
      "810\n",
      "811\n",
      "812\n",
      "813\n",
      "814\n",
      "815\n",
      "816\n",
      "817\n",
      "818\n",
      "819\n",
      "820\n",
      "821\n",
      "822\n",
      "823\n",
      "824\n",
      "825\n",
      "826\n",
      "827\n",
      "828\n",
      "829\n",
      "830\n",
      "831\n",
      "832\n",
      "833\n",
      "834\n",
      "835\n",
      "836\n",
      "837\n",
      "838\n",
      "839\n",
      "840\n",
      "841\n",
      "842\n",
      "843\n",
      "844\n",
      "845\n",
      "846\n",
      "847\n",
      "848\n",
      "849\n",
      "850\n",
      "851\n",
      "852\n",
      "853\n",
      "854\n",
      "855\n",
      "856\n",
      "857\n",
      "858\n",
      "859\n",
      "860\n",
      "861\n",
      "862\n",
      "863\n",
      "864\n",
      "865\n",
      "866\n",
      "867\n",
      "868\n",
      "869\n",
      "870\n",
      "871\n",
      "872\n",
      "873\n",
      "874\n",
      "875\n",
      "876\n",
      "877\n",
      "878\n",
      "879\n",
      "880\n",
      "881\n",
      "882\n",
      "883\n",
      "884\n",
      "885\n",
      "886\n",
      "887\n",
      "888\n",
      "889\n",
      "890\n",
      "891\n",
      "892\n",
      "893\n",
      "894\n",
      "895\n",
      "896\n",
      "897\n",
      "898\n",
      "899\n",
      "900\n",
      "901\n",
      "902\n",
      "903\n",
      "904\n",
      "905\n",
      "906\n",
      "907\n",
      "908\n",
      "909\n",
      "910\n",
      "911\n",
      "912\n",
      "913\n",
      "914\n",
      "915\n",
      "916\n",
      "917\n",
      "918\n",
      "919\n",
      "920\n",
      "921\n",
      "922\n",
      "923\n",
      "924\n",
      "925\n",
      "926\n",
      "927\n",
      "928\n",
      "929\n",
      "930\n",
      "931\n",
      "932\n",
      "933\n",
      "934\n",
      "935\n",
      "936\n",
      "937\n",
      "938\n",
      "939\n",
      "940\n",
      "941\n",
      "942\n",
      "943\n",
      "944\n",
      "945\n",
      "946\n",
      "947\n",
      "948\n",
      "949\n",
      "950\n",
      "951\n",
      "952\n",
      "953\n",
      "954\n",
      "955\n",
      "956\n",
      "957\n",
      "958\n",
      "959\n",
      "960\n",
      "961\n",
      "962\n",
      "963\n",
      "964\n",
      "965\n",
      "966\n",
      "967\n",
      "968\n",
      "969\n",
      "970\n",
      "971\n",
      "972\n",
      "973\n",
      "974\n",
      "975\n",
      "976\n",
      "977\n",
      "978\n",
      "979\n",
      "980\n",
      "981\n",
      "982\n",
      "983\n",
      "984\n",
      "985\n",
      "986\n",
      "987\n",
      "988\n",
      "989\n",
      "990\n",
      "991\n",
      "992\n",
      "993\n",
      "994\n",
      "995\n",
      "996\n",
      "997\n",
      "998\n",
      "999\n"
     ]
    }
   ],
   "source": [
    "# Create an empty list to store formatted numbers.\n",
    "numbers = []\n",
    "\n",
    "# Iterate through numbers from 0 to 999 (exclusive).\n",
    "for num in range(1000):\n",
    "    # Convert the number to a string and fill with zeros to make it three digits long.\n",
    "    num = str(num).zfill(3)\n",
    "\n",
    "# Print the last formatted number (outside the loop, indentation issue).\n",
    "    print(num)\n",
    "\n",
    "# Append the last formatted number to the 'numbers' list.\n",
    "numbers.append(num)"
   ]
  },
  {
   "cell_type": "code",
   "execution_count": 11,
   "metadata": {},
   "outputs": [
    {
     "name": "stdout",
     "output_type": "stream",
     "text": [
      "['000', '001', '002', '003', '004', '005', '006', '007', '008', '009', '010', '011', '012', '013', '014', '015', '016', '017', '018', '019', '020', '021', '022', '023', '024', '025', '026', '027', '028', '029', '030', '031', '032', '033', '034', '035', '036', '037', '038', '039', '040', '041', '042', '043', '044', '045', '046', '047', '048', '049', '050', '051', '052', '053', '054', '055', '056', '057', '058', '059', '060', '061', '062', '063', '064', '065', '066', '067', '068', '069', '070', '071', '072', '073', '074', '075', '076', '077', '078', '079', '080', '081', '082', '083', '084', '085', '086', '087', '088', '089', '090', '091', '092', '093', '094', '095', '096', '097', '098', '099', '100', '101', '102', '103', '104', '105', '106', '107', '108', '109', '110', '111', '112', '113', '114', '115', '116', '117', '118', '119', '120', '121', '122', '123', '124', '125', '126', '127', '128', '129', '130', '131', '132', '133', '134', '135', '136', '137', '138', '139', '140', '141', '142', '143', '144', '145', '146', '147', '148', '149', '150', '151', '152', '153', '154', '155', '156', '157', '158', '159', '160', '161', '162', '163', '164', '165', '166', '167', '168', '169', '170', '171', '172', '173', '174', '175', '176', '177', '178', '179', '180', '181', '182', '183', '184', '185', '186', '187', '188', '189', '190', '191', '192', '193', '194', '195', '196', '197', '198', '199', '200', '201', '202', '203', '204', '205', '206', '207', '208', '209', '210', '211', '212', '213', '214', '215', '216', '217', '218', '219', '220', '221', '222', '223', '224', '225', '226', '227', '228', '229', '230', '231', '232', '233', '234', '235', '236', '237', '238', '239', '240', '241', '242', '243', '244', '245', '246', '247', '248', '249', '250', '251', '252', '253', '254', '255', '256', '257', '258', '259', '260', '261', '262', '263', '264', '265', '266', '267', '268', '269', '270', '271', '272', '273', '274', '275', '276', '277', '278', '279', '280', '281', '282', '283', '284', '285', '286', '287', '288', '289', '290', '291', '292', '293', '294', '295', '296', '297', '298', '299', '300', '301', '302', '303', '304', '305', '306', '307', '308', '309', '310', '311', '312', '313', '314', '315', '316', '317', '318', '319', '320', '321', '322', '323', '324', '325', '326', '327', '328', '329', '330', '331', '332', '333', '334', '335', '336', '337', '338', '339', '340', '341', '342', '343', '344', '345', '346', '347', '348', '349', '350', '351', '352', '353', '354', '355', '356', '357', '358', '359', '360', '361', '362', '363', '364', '365', '366', '367', '368', '369', '370', '371', '372', '373', '374', '375', '376', '377', '378', '379', '380', '381', '382', '383', '384', '385', '386', '387', '388', '389', '390', '391', '392', '393', '394', '395', '396', '397', '398', '399', '400', '401', '402', '403', '404', '405', '406', '407', '408', '409', '410', '411', '412', '413', '414', '415', '416', '417', '418', '419', '420', '421', '422', '423', '424', '425', '426', '427', '428', '429', '430', '431', '432', '433', '434', '435', '436', '437', '438', '439', '440', '441', '442', '443', '444', '445', '446', '447', '448', '449', '450', '451', '452', '453', '454', '455', '456', '457', '458', '459', '460', '461', '462', '463', '464', '465', '466', '467', '468', '469', '470', '471', '472', '473', '474', '475', '476', '477', '478', '479', '480', '481', '482', '483', '484', '485', '486', '487', '488', '489', '490', '491', '492', '493', '494', '495', '496', '497', '498', '499', '500', '501', '502', '503', '504', '505', '506', '507', '508', '509', '510', '511', '512', '513', '514', '515', '516', '517', '518', '519', '520', '521', '522', '523', '524', '525', '526', '527', '528', '529', '530', '531', '532', '533', '534', '535', '536', '537', '538', '539', '540', '541', '542', '543', '544', '545', '546', '547', '548', '549', '550', '551', '552', '553', '554', '555', '556', '557', '558', '559', '560', '561', '562', '563', '564', '565', '566', '567', '568', '569', '570', '571', '572', '573', '574', '575', '576', '577', '578', '579', '580', '581', '582', '583', '584', '585', '586', '587', '588', '589', '590', '591', '592', '593', '594', '595', '596', '597', '598', '599', '600', '601', '602', '603', '604', '605', '606', '607', '608', '609', '610', '611', '612', '613', '614', '615', '616', '617', '618', '619', '620', '621', '622', '623', '624', '625', '626', '627', '628', '629', '630', '631', '632', '633', '634', '635', '636', '637', '638', '639', '640', '641', '642', '643', '644', '645', '646', '647', '648', '649', '650', '651', '652', '653', '654', '655', '656', '657', '658', '659', '660', '661', '662', '663', '664', '665', '666', '667', '668', '669', '670', '671', '672', '673', '674', '675', '676', '677', '678', '679', '680', '681', '682', '683', '684', '685', '686', '687', '688', '689', '690', '691', '692', '693', '694', '695', '696', '697', '698', '699', '700', '701', '702', '703', '704', '705', '706', '707', '708', '709', '710', '711', '712', '713', '714', '715', '716', '717', '718', '719', '720', '721', '722', '723', '724', '725', '726', '727', '728', '729', '730', '731', '732', '733', '734', '735', '736', '737', '738', '739', '740', '741', '742', '743', '744', '745', '746', '747', '748', '749', '750', '751', '752', '753', '754', '755', '756', '757', '758', '759', '760', '761', '762', '763', '764', '765', '766', '767', '768', '769', '770', '771', '772', '773', '774', '775', '776', '777', '778', '779', '780', '781', '782', '783', '784', '785', '786', '787', '788', '789', '790', '791', '792', '793', '794', '795', '796', '797', '798', '799', '800', '801', '802', '803', '804', '805', '806', '807', '808', '809', '810', '811', '812', '813', '814', '815', '816', '817', '818', '819', '820', '821', '822', '823', '824', '825', '826', '827', '828', '829', '830', '831', '832', '833', '834', '835', '836', '837', '838', '839', '840', '841', '842', '843', '844', '845', '846', '847', '848', '849', '850', '851', '852', '853', '854', '855', '856', '857', '858', '859', '860', '861', '862', '863', '864', '865', '866', '867', '868', '869', '870', '871', '872', '873', '874', '875', '876', '877', '878', '879', '880', '881', '882', '883', '884', '885', '886', '887', '888', '889', '890', '891', '892', '893', '894', '895', '896', '897', '898', '899', '900', '901', '902', '903', '904', '905', '906', '907', '908', '909', '910', '911', '912', '913', '914', '915', '916', '917', '918', '919', '920', '921', '922', '923', '924', '925', '926', '927', '928', '929', '930', '931', '932', '933', '934', '935', '936', '937', '938', '939', '940', '941', '942', '943', '944', '945', '946', '947', '948', '949', '950', '951', '952', '953', '954', '955', '956', '957', '958', '959', '960', '961', '962', '963', '964', '965', '966', '967', '968', '969', '970', '971', '972', '973', '974', '975', '976', '977', '978', '979', '980', '981', '982', '983', '984', '985', '986', '987', '988', '989', '990', '991', '992', '993', '994', '995', '996', '997', '998', '999']\n"
     ]
    }
   ],
   "source": [
    "def generate_combinations():\n",
    "    combinations = []\n",
    "    for number in range(1000):  # Loop from 0 to 999\n",
    "        combinations.append(f\"{number:03}\")  # Format as 3-digit string\n",
    "    return combinations\n",
    "\n",
    "# Example usage\n",
    "three_digit_combos = generate_combinations()\n",
    "print(three_digit_combos)  # Prints all combinations"
   ]
  },
  {
   "cell_type": "code",
   "execution_count": 1,
   "metadata": {},
   "outputs": [
    {
     "name": "stdout",
     "output_type": "stream",
     "text": [
      "{'united': 6, 'states': 8, 'declaration': 13, 'of': 30, 'independence': 13, 'from': 2, 'wikipedia': 1, 'the': 60, 'free': 1, 'encyclopedia': 1, 'is': 6, 'statement': 3, 'adopted': 1, 'by': 8, 'second': 3, 'continental': 1, 'congress': 8, 'meeting': 1, 'at': 4, 'pennsylvania': 1, 'state': 1, 'house': 1, 'hall': 1, 'in': 13, 'philadelphia': 1, 'on': 9, 'july': 7, '4': 3, '1776': 2, 'which': 6, 'announced': 1, 'that': 8, 'thirteen': 2, 'american': 3, 'colonies': 1, 'then': 2, 'war': 2, 'with': 4, 'kingdom': 1, 'great': 2, 'britain': 2, 'regarded': 2, 'themselves': 1, 'as': 7, 'independent': 1, 'sovereign': 1, 'no': 2, 'longer': 1, 'under': 1, 'british': 1, 'rule': 1, 'these': 3, 'would': 2, 'found': 1, 'a': 11, 'new': 2, 'nation': 1, 'america': 3, 'john': 3, 'adams': 4, 'was': 8, 'leader': 1, 'pushing': 1, 'for': 3, 'passed': 1, '2': 3, 'opposing': 1, 'vote': 1, 'cast': 1, 'committee': 2, 'five': 1, 'had': 2, 'already': 1, 'drafted': 1, 'formal': 2, 'to': 12, 'be': 5, 'ready': 1, 'when': 1, 'voted': 2, 'persuaded': 1, 'select': 1, 'thomas': 2, 'jefferson': 1, 'compose': 1, 'original': 3, 'draft': 2, 'document': 2, 'edit': 1, 'produce': 1, 'final': 1, 'version': 2, 'ultimately': 1, 'explanation': 1, 'why': 1, 'declare': 1, 'more': 1, 'than': 1, 'year': 1, 'after': 2, 'outbreak': 1, 'revolutionary': 1, 'next': 1, 'day': 3, 'wrote': 1, 'his': 4, 'wife': 1, 'abigail': 1, 'will': 1, 'most': 2, 'memorable': 1, 'epocha': 1, 'history': 2, 'but': 1, 'actually': 1, 'celebrated': 1, 'date': 1, 'approved': 1, 'ratifying': 1, 'text': 2, 'issued': 2, 'several': 1, 'forms': 1, 'it': 5, 'initially': 1, 'published': 1, 'printed': 1, 'dunlap': 1, 'broadside': 1, 'widely': 1, 'distributed': 1, 'and': 15, 'read': 1, 'public': 1, 'source': 1, 'copy': 4, 'used': 1, 'this': 4, 'printing': 1, 'has': 3, 'been': 4, 'lost': 1, 'may': 1, 'have': 2, 'jeffersons': 3, 'hand5': 1, 'complete': 1, 'changes': 2, 'made': 3, 'benjamin': 1, 'franklin': 1, 'notes': 1, 'are': 4, 'preserved': 1, 'library': 1, 'bestknown': 2, 'signed': 2, 'displayed': 1, 'national': 1, 'archives': 1, 'washington': 1, 'dc': 1, 'popularly': 1, 'official': 1, 'engrossed': 1, 'ordered': 1, '19': 1, 'primarily': 1, 'august': 1, 'sources': 1, 'interpretation': 1, 'subject': 1, 'much': 1, 'scholarly': 1, 'inquiry': 1, 'justified': 1, 'listing': 1, 'colonial': 1, 'grievances': 1, 'against': 1, 'king': 1, 'george': 1, 'iii': 1, 'asserting': 1, 'certain': 2, 'natural': 1, 'legal': 1, 'rights': 3, 'including': 1, 'right': 1, 'revolution': 2, 'having': 1, 'served': 2, 'its': 2, 'purpose': 1, 'announcing': 1, 'references': 1, 'were': 1, 'few': 1, 'following': 1, 'years': 1, 'abraham': 2, 'lincoln': 2, 'centerpiece': 1, 'rhetoric': 1, 'gettysburg': 1, 'address': 1, '1863': 1, 'policies': 1, 'since': 1, 'become': 1, 'wellknown': 1, 'human': 1, 'particularly': 1, 'sentence': 1, 'we': 1, 'hold': 1, 'truths': 1, 'selfevident': 1, 'all': 1, 'men': 1, 'created': 1, 'equal': 1, 'they': 1, 'endowed': 1, 'their': 1, 'creator': 1, 'unalienable': 1, 'among': 1, 'life': 1, 'liberty': 1, 'pursuit': 1, 'happiness': 1, 'called': 1, 'one': 1, 'sentences': 1, 'english': 1, 'language': 1, 'containing': 1, 'potent': 1, 'consequential': 1, 'words': 1, 'passage': 1, 'came': 1, 'represent': 1, 'moral': 1, 'standard': 1, 'should': 2, 'strive': 1, 'view': 1, 'notably': 1, 'promoted': 1, 'who': 1, 'considered': 1, 'foundation': 1, 'political': 1, 'philosophy': 1, 'argued': 1, 'principles': 1, 'through': 1, 'constitution': 1, 'interpreted': 1, 'us': 1, 'inspired': 1, 'many': 1, 'other': 2, 'similar': 1, 'documents': 1, 'countries': 1, 'first': 2, 'being': 1, '1789': 1, 'flanders': 1, 'during': 2, 'brabant': 1, 'austrian': 1, 'netherlands': 1, 'modernday': 1, 'belgium': 1, 'also': 1, 'primary': 1, 'model': 1, 'numerous': 1, 'declarations': 1, 'across': 1, 'europe': 1, 'latin': 1, 'well': 1, 'africa': 1, 'liberia': 1, 'oceania': 1, 'zealand': 1, 'half': 1, '19th': 1, 'century': 1}\n"
     ]
    }
   ],
   "source": [
    "# Write a Python program that prints long text, converts it to a list, and prints all the words and the frequency of each word\n",
    "import re\n",
    "\n",
    "string_words = '''\n",
    "                United States Declaration of Independence\n",
    "From Wikipedia, the free encyclopedia\n",
    "The United States Declaration of Independence is the statement\n",
    "adopted by the Second Continental Congress meeting at the Pennsylvania State\n",
    "House (Independence Hall) in Philadelphia on July 4, 1776, which announced\n",
    "that the thirteen American colonies, then at war with the Kingdom of Great\n",
    "Britain, regarded themselves as thirteen independent sovereign states, no longer\n",
    "under British rule. These states would found a new nation – the United States of\n",
    "America. John Adams was a leader in pushing for independence, which was passed\n",
    "on July 2 with no opposing vote cast. A committee of five had already drafted the\n",
    "formal declaration, to be ready when Congress voted on independence.\n",
    "\n",
    "John Adams persuaded the committee to select Thomas Jefferson to compose the original\n",
    "draft of the document, which Congress would edit to produce the final version.\n",
    "The Declaration was ultimately a formal explanation of why Congress had voted on July\n",
    "2 to declare independence from Great Britain, more than a year after the outbreak of\n",
    "the American Revolutionary War. The next day, Adams wrote to his wife Abigail: \"The\n",
    "Second Day of July 1776, will be the most memorable Epocha, in the History of America.\"\n",
    "But Independence Day is actually celebrated on July 4, the date that the Declaration of\n",
    "Independence was approved.\n",
    "\n",
    "After ratifying the text on July 4, Congress issued the Declaration of Independence in\n",
    "several forms. It was initially published as the printed Dunlap broadside that was widely\n",
    "distributed and read to the public. The source copy used for this printing has been lost,\n",
    "and may have been a copy in Thomas Jefferson's hand.[5] Jefferson's original draft, complete\n",
    "with changes made by John Adams and Benjamin Franklin, and Jefferson's notes of changes made\n",
    "by Congress, are preserved at the Library of Congress. The best-known version of the Declaration\n",
    "is a signed copy that is displayed at the National Archives in Washington, D.C., and which is\n",
    "popularly regarded as the official document. This engrossed copy was ordered by Congress on\n",
    "July 19 and signed primarily on August 2.\n",
    "\n",
    "The sources and interpretation of the Declaration have been the subject of much scholarly inquiry.\n",
    "The Declaration justified the independence of the United States by listing colonial grievances against\n",
    "King George III, and by asserting certain natural and legal rights, including a right of revolution.\n",
    "Having served its original purpose in announcing independence, references to the text of the\n",
    "Declaration were few in the following years. Abraham Lincoln made it the centerpiece of his rhetoric\n",
    "(as in the Gettysburg Address of 1863) and his policies. Since then, it has become a well-known statement\n",
    "on human rights, particularly its second sentence:\n",
    "\n",
    "We hold these truths to be self-evident, that all men are created equal, that they are endowed by their\n",
    "Creator with certain unalienable Rights, that among these are Life, Liberty and the pursuit of Happiness.\n",
    "\n",
    "This has been called \"one of the best-known sentences in the English language\", containing \"the most potent\n",
    "and consequential words in American history\". The passage came to represent a moral standard to which\n",
    "the United States should strive. This view was notably promoted by Abraham Lincoln, who considered the\n",
    "Declaration to be the foundation of his political philosophy and argued that it is a statement of principles\n",
    "through which the United States Constitution should be interpreted.\n",
    "\n",
    "The U.S. Declaration of Independence inspired many other similar documents in other countries, the first\n",
    "being the 1789 Declaration of Flanders issued during the Brabant Revolution in the Austrian Netherlands\n",
    "(modern-day Belgium). It also served as the primary model for numerous declarations of independence across\n",
    "Europe and Latin America, as well as Africa (Liberia) and Oceania (New Zealand) during the first half of the\n",
    "19th century. \n",
    "'''\n",
    "\n",
    "string_words = string_words.lower()\n",
    "string_words = re.sub(r'[^\\w\\s]', '', string_words)\n",
    "words = string_words.strip().split()\n",
    "\n",
    "word_freq_dict = {}\n",
    "\n",
    "# Count the frequency of each word\n",
    "for word in words:\n",
    "    if word in word_freq_dict:\n",
    "        word_freq_dict[word] += 1\n",
    "    else:\n",
    "        word_freq_dict[word] = 1\n",
    "\n",
    "# Print the dictionary of word frequencies\n",
    "print(word_freq_dict)"
   ]
  },
  {
   "cell_type": "code",
   "execution_count": 28,
   "metadata": {},
   "outputs": [
    {
     "name": "stdout",
     "output_type": "stream",
     "text": [
      "Unique triplets that sum to zero: [[-1, 0, 1], [-1, -1, 2]]\n"
     ]
    }
   ],
   "source": [
    "# sum of nums\n",
    "\n",
    "def find_zero_sum_triplets_basic(arr):\n",
    "    n = len(arr)\n",
    "    triplets = set() # Use a set to store unique triplets\n",
    "\n",
    "    # Iterate through all possible triplets\n",
    "    for i in range(n):\n",
    "        for j in range(i + 1, n):\n",
    "            for k in range(j + 1, n):\n",
    "                # Check if the sum of the triplet is zero\n",
    "                if arr[i] + arr[j] + arr[k] == 0:\n",
    "                    # Sort the triplet to ensure uniqueness and consistency\n",
    "                    triplet = tuple(sorted([arr[i], arr[j], arr[k]]))\n",
    "                    triplets.add(triplet)  # Add the triplet to the set\n",
    "\n",
    "    # Convert the set to a list of lists for output\n",
    "    return [list(triplet) for triplet in triplets]\n",
    "\n",
    "\n",
    "# Example usage\n",
    "array = [-1, 0, 1, 2, -1, -4]\n",
    "result = find_zero_sum_triplets_basic(array)\n",
    "print(\"Unique triplets that sum to zero:\", result)"
   ]
  },
  {
   "cell_type": "code",
   "execution_count": 29,
   "metadata": {},
   "outputs": [
    {
     "name": "stdout",
     "output_type": "stream",
     "text": [
      "Parliament Winter Session LIVE: PM Modi addresses Lok Sabha - Hindustan Times\n",
      "https://news.google.com/rss/articles/CBMi_wFBVV95cUxQaW5tNFpNQ3d4Yk93a3M2QU95cms2M0RVbzNRV0VCbWpIbl85VjF2WU9WbE9YOWphdUlLQk83dzlZZjR2enpOT2RObFFFY2Q3dGlnSW4wcW1BRjgwaHVjRkdwOWYweUZMT3ctM2ZCVjE0VmR5cUJWR0pEM3dpTFJCWkJFbnpJT0FVLXlZeWRkaHZlalNDWWRrZFF1b0o2OURGRVRKVEZSM0xoSDl4SldjaHlvcm52aExmYjZyOHBLcGYwTHFsX3VwVGdiTDF0V2VRRGxqLWhvX3pWVVlyNzRVQV9xaUIyMXlwbFF3dFVPZVN4RWQ1djJMdTU0TDdsbmfSAYQCQVVfeXFMUDVyY3hPOWR6SFlCX3h5cm52cXRGaUZNdEwycHhwM2ZiVHVRZDlqMVRhbzlYUF9zeWUtS0FpcDE5bWZiVS0zUGR1elJyUUhNcnBvYUVCOW5fckpfTEUxLW1DZDluWVVQY1JrVnUtaUJGSjhJRVdTVEZUbUNDUnpyT1VnbkhmVHNqcl81aGpFb2t3Y2lHWk1neEZLZEhxdFFNNW5oOVU1TXZGM0ktb3VBMWVqNkNsMlJsYVprX1puQjIwd1dUaEh2emFlX3hwc19teWhsYTktQUpTZ2EwaGRqLWo2d2ZXNDVXRnp3YzBzR29oWFFUVDcwSmlnLXByOTFiVWkxYnA?oc=5\n",
      "Sat, 14 Dec 2024 12:27:10 GMT\n",
      "------------------------------------------------------------\n",
      "Watch: Rahul Gandhi 'yuva' gaffe in Lok Sabha leaves NDA MPs in splits - The Times of India\n",
      "https://news.google.com/rss/articles/CBMi0AFBVV95cUxQT0ZBR0VSV0xlUno3VUFrcXY2NnllUGgxcnJzSWxRZWl6cHRwZ1Y5cjBoeENXWFc3TGJ1NVpiWF9tdDY1X0NjSkZ3M2Z1Yi1oTWRDWjZvYVBlSllCWFpUbDd0VlBWWEdBZjJCUVgzVE1UQUxQMzg1SDdEYVVkVzVRRFo0cVBKX0wxRHJpTmJpam1BN2VjSGtJSkcwSC1LdWItSS1GQnRvSzNNNWMzcWtzNkN3QUJTemFnekF6UlAzWkpBWjBkYk13RWhTNTl2bDgw?oc=5\n",
      "Sat, 14 Dec 2024 09:03:00 GMT\n",
      "------------------------------------------------------------\n",
      "South Korea President Yoon Suk Yeol impeached over his martial law order - The Hindu\n",
      "https://news.google.com/rss/articles/CBMi6wFBVV95cUxPdmRua3dGYl9LdkwteXluYzBwRXQxZDhmMkMyMWJhMUhMUXdoUnJnQTgyQnFZYlplTUtnOG1QOFFmOUJicmtsd0gxUVV0dGJKaGpuZExCLVZQY3JkZm1XLXRCSFVzdUV4dWVTNWgzRFRCYmRzRElTUkJLS0VFZFUzUEp1bk1jc2R0VmsxaUo4Qkk3Tm1fdzdxeDJCRXM3V3ViX0ExMkJFS2RaeTBpbjdGUWJZeHM4R2ZxM0hKdmZxVVBVNzNqY19HVWVVRERKeVBZd3N3Y2VhZ2lHcG1uczRYaFo5ZkZ0eEdIVFpj?oc=5\n",
      "Sat, 14 Dec 2024 08:21:00 GMT\n",
      "------------------------------------------------------------\n",
      "Farmers resume ‘Delhi chalo’ protest march, internet suspended in Ambala - Hindustan Times\n",
      "https://news.google.com/rss/articles/CBMi3AFBVV95cUxPMVo5aEVUR1JPX2N2dFVxVDhkamFVTmJ3WVBRdnN5aW1XX3pqeTRRcVFYOW4zQTIwamV4VXF6UC10anJjd0lqeVJnYmhZWktmMzZTUWI5TnBEa1ozVUpvVW40WC1XX0tkaDhjRnYzSE9sbGt1R1prTzdMcjVlZ2tEQkRkZVVoWkp4V2wwWVRJRHZCZVlaOXVYTllzdld4clpMYWplQUxNeDdwRkxlUDhjcVdKSVFQSnFESjFVM3FwYjRWYTd0NmtfcGtZMWVXZV9wUlg3cEk4TGZvRkEx0gHiAUFVX3lxTE1oeW9RQjVHYVByUHZVemhaUXBrVGhNVEdzeXYzVFlZVUJhbUFzLTBLeHk1TkMtVlZRUjNHT0hpYUE2SWpDRDB0YXBqT255WTRTUmM1WXVvZTJMUEJia3RQZHBwbGViMU01eGJkV3RPLUhMNlVlRE53UmdhUWE4UVNtbWtPU2dmdmxoYmhPWWxpdURPbkZaMTQxZWZTQ1ZMSkctUld0UG1XVTlSdEhQdWdzd21QZVRSMWcwNWF4THozV2JIZHVEUm9jWUtReDdwcHlLMERsLS1FUkRzS0htVU1acmc?oc=5\n",
      "Sat, 14 Dec 2024 05:31:23 GMT\n",
      "------------------------------------------------------------\n",
      "'One Nation, One Election' Bills To Be Introduced In Lok Sabha On December 16 - NDTV\n",
      "https://news.google.com/rss/articles/CBMitAFBVV95cUxNczFwdHlVN0JVZzB5RVR2MERfRGFqMktKZDgxNkx0T2lxTnk0dWVjOHF0YVBoUGJKa3BaYVZFQVJheE9hSldwVkhaaXpJLWQxZlUyVjdDMHE5T3ZnZG44UHRhS1JfeGFRQ1h5QWl1b2JZM2ozUWxHeUVJRTdwVXV4ekJ5bnp4eTlaSXFUMkFWbDVvREVIeVl5c1NEUGF5aFZyeU9SQlkzbGo1ZngwVWxuSmJuZVrSAbwBQVVfeXFMTnpDbjhDY1lLYVhKMGhJbktmNWhIdXdBT3hyWC1CWEtWeFZpbkpmbEJEQXZtd3lxWUtDOW45NS1kUmZHUEtZY2JPZXA2SUxreU9zUEpMbUZoOEU3cFdhWjlWTzVYNTdoUkRhSEJOUWxIVTA1UE9KU2oybUo0YXZEaFlCZEZiSk1KVmM2V1FsUmdyNkJWVFh2N3QzQWJVdF9nNnp3OHEza3Z2ZVdFcnp2UThUakZUY3VIQnVzcWU?oc=5\n",
      "Sat, 14 Dec 2024 09:11:00 GMT\n",
      "------------------------------------------------------------\n",
      "Bengaluru Techie's Wife, In-Laws File Anticipatory Bail Plea After Summons - NDTV\n",
      "https://news.google.com/rss/articles/CBMisgFBVV95cUxOUGFtMjBNTHBWNVd5a1ZmWENqZGVjRnV4ZGx0QzQyaEREdWlUYzVnTUZ5bEg4Y0pGcmRNVjAwbFhsQ01EMm5FQk9yVFdKekFkcV96d3N1cElfbDlBUVdHTEtKOHNCZE45OXNmeWlSVDRZNmgwZmQ0cjlzbzJlYTVJZzlHRTV4SG4xNEpnMm1UZ3hoNV9QNkFNX245SVVtV0NKbjdOdi0ycWJENEJLSWc2dG9R0gG6AUFVX3lxTE0yS29OWVNFbF9JSVNXUUloMjBHeVJ0ejVyUERDY2ZDQnJzTzRTZ3V1TmprVC1yUDlIUTdEZzI2bkVZUi1peEVTRVFGenl1NWx6RnJrZkhyUFltLWlFMmlmaDFkX2R0Q3N3WWlPTXkzXzhucEp2VVRNV0U5STFHZkVVSTdRbTNGY1dKSW9aSjM0d3BFUi0wbm05T0J6SF9HZlZZVlFRSWV1bGhhNl9vODZFZ3JsNE5lVkh0Zw?oc=5\n",
      "Sat, 14 Dec 2024 07:44:34 GMT\n",
      "------------------------------------------------------------\n",
      "RG Kar rape and murder trial: Ex-principal, cop get bail as CBI fails to file chargesheet on time - The Indian Express\n",
      "https://news.google.com/rss/articles/CBMitAFBVV95cUxNd011YVFGR19zX21ZUW9ieWhobTlKSzhHeEUtT2g4bWxlSnhTQ1ZLN25uUkZwbWJHZU5zbXVrY1J6ZFlka0xtSVZWTTVjTmdWZE9wMElvc1NRdGxQTmI0eWx1LW4wM1owWldEMzB0T3FCRTJNYkxuRGY0cWhVeHM0b3N5Q3kxZXBmR0NFbVpYQlY5WVdfWjZ3dlZ5T2hFQ1hpQXVsUmFWa3VYNElHY00zcHREZnXSAbsBQVVfeXFMT2ZjQzJKZ09BT0xPbGJtR3hiREozOXFHRE9CRlZxWDV5NXFoYnRtSTV2UFJxVmE2R3RpU1NrQThBU0hydmstSXRsOEdiRlFtRVowOEVuNXpvVldURFZTUzdpRXduZGJ6Q0lqTHppeUpxRHpZTDZOcHFNaVh3MVRKWmd3V2YwZU8ybHlBSkJBWHlzUzBvbzVSbnRUaVF3MkZYWEl0My1JcEpUUGxsVzFtLTJPd1pXOHRPMDgyYw?oc=5\n",
      "Fri, 13 Dec 2024 20:30:24 GMT\n",
      "------------------------------------------------------------\n",
      "'Happy we reached our country': Four Indians arrive in Delhi from Syria - The Times of India\n",
      "https://news.google.com/rss/articles/CBMi0gFBVV95cUxQZVBMdUF0QnQxUnNWS2JoTWw1eWdUZ1hWZV9XX2NnMU41YkxkTmU3NlR0MTQzNFpDeEpfNkl2dk94VldWZDVwTzBPdG1vVmUzM2NLTmJtamdqVlhONTBtOVIxbnFIbUFrQlhhd1FDNG9mMHJqOUdnUnlUZXJsNzMzR0xWSUpYeXhjUHFpelBpTGl6U0xuTmtsYW9jbWNVVE0yWk1MM21Jclp0c3dvOU9wTnZMSTF0OEJETG56MVRCQ2ZFRTJoZlN5X2VoX29lcktabkE?oc=5\n",
      "Sat, 14 Dec 2024 07:16:00 GMT\n",
      "------------------------------------------------------------\n",
      "Switzerland Suspends MFN Status To India: What It Means For Stock Market Investors? - News18\n",
      "https://news.google.com/rss/articles/CBMizwFBVV95cUxOa183el82REh1dUllOTg5QUZNbVN2dGpWdGdSUmhGUXZ6UnQ1MDlGS3dtX0FpYlJVQmxnTUdYeVlnekZrbmRUa0hQSWtSRXZLWGV2SHFtOVNxNUdBd3I5eWRMSUptOHJscHVUNVpUNEh6cEJHMzJFV08tTUdDQ1N6SVdZT1RnYXl4NXBiTFhfRTlucmlBMkRVQmlEY09PWU16NFh2SzZRdUd1RE1FcHpMdXgtWi1yZE9uU2t6alhmX1JQdWlZLUEyN1doSVZ2LUHSAdQBQVVfeXFMTVR4Vk5aV0JPZHBialV1V2RfN1NveVRhMlZmRi13MGFBNmVocUFOUXRwSXlBa1NyWnBtbDFHVFlwbVZZNHJXZTRRQWw3TnhBSFNFLWpfVVJLRE9FRmlYdHJhbG9DWW4yRWtpd25SemtBNjF0M09BcHFFdjdJZ1k5VzRMSmJ3eWU5Y0IxQTQ4eHhSYkJ3TU1TMElnM3RHT2ExUW5tNGhGY2hTdWVoSU14T1lWV2h2TTVQZzhhenF2SXdBVG9XOHA2U2FvMmxCX1FhMF9sNWc?oc=5\n",
      "Sat, 14 Dec 2024 12:14:45 GMT\n",
      "------------------------------------------------------------\n",
      "India demands thorough investigation in killing of three Indian students in Canada - The Hindu\n",
      "https://news.google.com/rss/articles/CBMizwFBVV95cUxNNFQ4a1g0YkNxVlc1RFd1dEo2T3dfSU5rZzFibzJHWXdHMzd0ek5fTFNGU01FbHJJcy1CYUlBek5PZEFlWHJXbE1DV1Fjd1lMV0RzeUxNbm9Way1NSmg4X2NHSWQ5a1UtVHJuY2FOakdzbDA2WWVRbEhLbUtsTnlrS0t6ZzYxRjMyTkFsbF9sV0l6NkZQY0VKQ3lDTFB0OWo1STh6RFlESXdFbWNMRW9PSWtLS2FnWGZRM1Y3WlUwS1lpdm1hbWgwQVRtMk5vMlHSAdYBQVVfeXFMTVR5YUJQUnZ1VS1uRUdQWXozb2VGSmI3QmtQcGZzTkZWYmN5Mko0UEtabTR2WVFQRlg2TW1lay03dmRjUlZLdl8ySzBmcTZTUktWTEVOR0xkMlFJcnVYdHZxTVVJZklDZzNGNGRVZGRLUUlsQzZnVVo5TkJyN2lSRUhSMXd4Nk5neFFIVTdIb0VmbU15SWZPSWRzd1pIRy1wVTQ1cmlyU3hvRjdZVnRwb2NnVUJvdVdDRUNRamVBSURJbHM1cW5pR3loeWJWdW5tTHUwa1RmUQ?oc=5\n",
      "Sat, 14 Dec 2024 05:06:00 GMT\n",
      "------------------------------------------------------------\n",
      "Chinese delegation to invest $1b in Karachi mega medical city - The Express Tribune\n",
      "https://news.google.com/rss/articles/CBMingFBVV95cUxOall6LWp2dlhlWWJOYmxuYWxldWkxblg0SXliTmZVa0Rtdk9oekktSmZFN0xUQThOSTdVbWVhcFdROEVXTDNWdUJ3THd0c09LVmFVUGo2a3hsZjN0MHlHNUhQb2s2M0JlQW01ZnhqZEpaLWFvdE13OGdVRFpHWHJNOWRMeExQZGJHQ1liWWUzU0JLUThuanVWazgtblVSZ9IBpgFBVV95cUxPd1Y1WmdUUm9MZHdHSHBsbmVqTkMwckhXZE1jQzFuYVVFclV6dWoxOUlFXzlDRG5CQTVlcjBZNUFlOGM1MkxwQ1h1TlRSQm1NUF8yaG12UlNKbHFhNVV2a3YxbHRKbE9IVldrcDEyUTJaMV9RMVJpdXdudXdFNDRxczI1WXVJbUpMSnczdl9ITUdkZnVqRXQzbEkxaDRZOHlhVmUxS19R?oc=5\n",
      "Fri, 13 Dec 2024 23:13:34 GMT\n",
      "------------------------------------------------------------\n",
      "'Victory of blessed revolution': Thousands flock to streets in Syria to celebrate Assad's fall - The Times of India\n",
      "https://news.google.com/rss/articles/CBMi_gFBVV95cUxPenpEX3FBNFlKRTJDSWdYMXdUbjk4Y0FITDljSnA2dzBFRnR5NGRVa1lqV3pZTGZ5dlBCUjFQaTdIWXZLVVhQQjBsT0RuTHBYcXZpZ2JadVZNbDBlSWdTYWFaVUkwaWgwdDJJRFduTjlhNDlWc2ZKR1NTRjlqNzBzemZJdjdSNmgtZHlFWjRKakpMWXpKUVZwUFlDM2x4QUNETm1xb1lnRjJWX29JMWFUSXBpakJtLUtlQnVmTGhoTUExZVlPMVd6TndjQ0hhVnkwWk5LT3FKYUFHVmJlRHJDZW4zZzk2VjdSSGNTMUhjS2NGeTAyMmxSQnJiTnhKd9IBhgJBVV95cUxPMkNNMUNGaWMxQXdCLUxPdHh5X3BKTXpleWZ0OWRDcDk0XzlFU3Rob0dJQ3FpOUVrMmFrd0RGYjlnY2R5WlZmWl9VX2NMcHl3OEFqVFVXQV9saUs3MU5sSkRZbXFkRnM3d1B4RTJYdmVJMjg2M0loYVRBZlJWN2pFY0xGdXJKRFZHNGREVEpTbGRnMmlGREFCUU45UWNHX2lKMzBkTDAya3ZmRUp2UFkzY1hjeTlQUzUtTmJCUW9vQXZVSC10enFFQkxYNzVfVlFUMVNMbWFCTHFsT1pIMW5DcFQyX3VzX2hPenRfMnVUZFlTUmhvZUJwVXRNMnBld3BtSVJrcGRn?oc=5\n",
      "Sat, 14 Dec 2024 08:51:23 GMT\n",
      "------------------------------------------------------------\n",
      "Indian-American OpenAI whistleblower Suchir Balaji found dead in US - India.com\n",
      "https://news.google.com/rss/articles/CBMiwAFBVV95cUxPdVJYcDVmRkpFNjFrcXpyVldGOVRKdTdUNzRVb3JybGo5MEJRRTRuWl82WUtMZVdQTFp0eWJmNExzM3VvR0tKZy1ibzIyajB3VExZcDA3YjBUbGthYmJZVjNLOTE2VERWaVktV0NGcW9VMGUxNDktNE1qSXcxQ1NBV0w1RTJYdTQyQi1NeDVoRlJkUDlkZVZrYXRQQWx4YW5TZnpxa09tMVhJcGl5MDIyQk9DdVJkQVBzYnVlbDhGdjY?oc=5\n",
      "Sat, 14 Dec 2024 04:01:21 GMT\n",
      "------------------------------------------------------------\n",
      "New Israeli strikes said to target Syrian military sites, underground missile bunkers - The Times of Israel\n",
      "https://news.google.com/rss/articles/CBMitgFBVV95cUxOeHdwS2VHTHlsWjJNWjBFYmtkYzBtWHBCb1ByamI5TlZRZzkyd2NWNGpUcUQ2SVFFU1hqMGxob0czdjF5REdVN0FJb3BpNWNLYlNhUlF3RUM0M05sWXcyVGRYTFJUeDJSck1NQzdhSnlvVmtfNVItekI5SUxqM1l5bDFuWFpfbXhLWmJCYUlqSUlxTDB3T1RWT1M1cHBtRmdyX2JwY0E0bGhuQkQ0QnhwTjN0b2tTUdIBuwFBVV95cUxNQ3VNUVVHYVJzZW0yN3BDSmFyN2gtUS1DaWw5Q2hxUjJOV1A2MzRGRzhkTFREMjF2bkdCMGVobk9Ed2IwdW5GX0M5XzJLbk9jVDZqbXd2TUR4anZVdFFlU3BwSHZNbU9VamVTMkltbjlNclJLel9JVDllRUd2VFdYSjI0N20yWDVlajJJejBLNENibTlVS0lnY0dvTlo0dEFCZjhrdmc0V3NMVWN6Z2h2aUNGalgtTGJEUHdr?oc=5\n",
      "Sat, 14 Dec 2024 09:35:41 GMT\n",
      "------------------------------------------------------------\n",
      "Reliance Industries appoints Ira Bindra as Group President for HR & Talent | Company Business News - Mint\n",
      "https://news.google.com/rss/articles/CBMizwFBVV95cUxQd2V1SXdMUl9zR0R2X2pObGpxbmtzbTk2NXAxR2dLS2xYbFptamh6SlZkYkVUSHdEN0VCcVNuRk05T2RZdGljalZQb3FyZUhZeDZEb2dITFEzcnp5NktMMU90NHg1VEwwWGo4SV9jbUNjOE9NWjlSczFKLWZPb28yTTVUVXdEWG9VRDJxZnZZQTlYOEw4dk96X0lYNWVXd1J4WjRMMTI4OVZnT0pKTHJ2YmExdFR1RGVzNTJwd1ZWTG9EajRrR0d4bEZybHMxQ2fSAdQBQVVfeXFMT1V1SzZpdEg5OHNHMFBpbXJpLVJGUy1sNl9QTTlMLUdIcFRJRGpwOW1XdG1rWUxDN2h1MnE5dlFuZ2IxNkMxczNFcllwWU1NVVVCOUtDMnQ5X2xldGN1ZjUyZHVvVFhIZDdPdVJzdm11YnVIa0dzRWY1eG5vbnJQWi1lZ0FfMkZkT3VPSGlWTGVEbWI5ZzZrZmU4X19abGlOWjdPVTZwN2VzWjVsRkJta0NLd3dER09Gb0ZuTndFVG5XRGJNeFZPT3JEaWI3WkNLYURGXzg?oc=5\n",
      "Sat, 14 Dec 2024 12:05:30 GMT\n",
      "------------------------------------------------------------\n",
      "ED restitutes assets worth Rs 4,025 crore in Bhushan Steel bank 'fraud' case - The Economic Times\n",
      "https://news.google.com/rss/articles/CBMixwFBVV95cUxNclk4X1k4a0FZM3JjU2xJTzBrRFA2MThWLXFrbkZULWpiaUNWWjVJX0ZLREgyUkR5ZVJyRldubHJ6QUVzMW15bFNzTFJfZUxvUTkxMk9SRDlXb1pzR1N0bmJCNjVkb1g3R01EZUhwcEVRS0JDUkVFMlQ3OV83ZDZSc090WUhYcllLdGNpQl95TFNRem5BbjdTbmhTTlpzaUk4ZlI1UHJMR09iREVyb20xWVRPTTNmUmRBTGRPY284cUhwWDJXdnBR0gHMAUFVX3lxTE5ZelE0M3VOWEdBVUZaZGVlRkZ1WkRhdWd3dUNxYXRzcXlvLUttOFZrTVpWbVVxR0RRWlNCcVBUeG9TRUZiOTNTcEV3d0F0dVJ5a1NNRHhEX0J5Q05UMkZ5UG5mVEpPWkV0Njl4bmswdm9iMHBnajZFaHpUaktEZktHeFlXU1Z5bWFjWktDd19PR3c2SWtoeUlGcVpERmR1akhkLUtuSTBDcHdHU3RobllldU5yN1V5dEpPbVBvZnc0SkltTUU2N1dKMGE4aA?oc=5\n",
      "Sat, 14 Dec 2024 05:14:13 GMT\n",
      "------------------------------------------------------------\n",
      "Stock market today: Nifty 50, Sensex jump 1% each; midcaps, smallcaps underperform | Stock Market News - Mint\n",
      "https://news.google.com/rss/articles/CBMi_wFBVV95cUxOVXVXRTFKZnltZVo5YjJvcG1Qa3dZby02bE54dVB5TnE0ZTEzSXB0MWh5T3pjdVk5eFBpamE5aVZHRXcxRUhRQUYwRjlGa2FzTXlRRjlhM1JFbnM4c3M3OE1xYVJtbUpiRzNXQmNHX0otdEJrTEFyODd4OVBDOFhPeFZaLTFxQUhWRDlIM3ZvNGpFX1E3d1MwRXlOLW9DOC1tS3ZLN3A3M0hoMEVCTkE1LTQ1dFdpQkZKcHN0TnJYdlRla2JrNlgxeUxNMUpnUVJCV0RTUmlzTXpCcUhZYkxQN1hMdkNkbV9YVFVxNzYxRHMxRFJmWWxEV2hHX3JMV1nSAYQCQVVfeXFMT1NJcjRNMXk4T0pCVldndXF6TnlBRWNqQ1FXQzNrUnpSOFF5WG9zUEhheFpxWHVQRGJjYnNHQ2E3Y1BSNUd3cE91MkFYQTU2dkRwR3dDUFMyVHdiVkNWd3VPeGFXck1MOXZKdVBsM3Bmb24xRWJlR0doY0VYWEFrZmZtRzg3RGQ1Y25RUW8zZVNHMDl6N3BJdy0tbDlLWHlETkNIUWlwVS1DN0JuQ0p6TTZkcTBKWVA2YVF4cTVSSGVUeDBaYk5yTWpiMmhKS2hqdGpmZkVvOEVHczNLYlRYMGFSamJMbzFuQjFOVzhFal9WcGh4SmtTdTlCNHdneFBPbzJiVVA?oc=5\n",
      "Sat, 14 Dec 2024 12:44:52 GMT\n",
      "------------------------------------------------------------\n",
      "Gold Rate And Silver Price Today on December 14, 2024: Check latest Rates in India | Stock Market News - Mint\n",
      "https://news.google.com/rss/articles/CBMi3AFBVV95cUxQRXJSRk1jMWd2QUdtbTd5YVU4UFA0cFhnb3ZaM2RCeF9uQmxqTzdBZDlKcmUzcE5SNVdYTmpZOXFkaVd6eGhGV0RRQU9DcWJHcjlDWDZiRUNlbDhCLWNMWU55enVLUlczVGNIel9sbHBsSmN5MGlfQXZCMkplcERuRjN1OW5oejg3Vm5pWXBSU09BMDJjRlhCVGdZN1RNNWR3RmZQMTFIb2ZzS1RKeEJQd2x3Y0dabE42bG9Eck5mRFdkeEEyZWtWT1E0OGUxSDNGRm5wWUVYTUNVNFZB0gHiAUFVX3lxTFBJZm5IZkRybWxlYmpZekg2d3FKUnBBa0h4NnMxWlNVWGNCd1JMb0Z3WjBZOEFfYUpfbzhUdEtQYkNBQW5lV0x4bndMRWhGR0RhTjlwcjh0Z2tJclBYQVp1UjF4MlpwYWZ4M0Q1dmVZOFdxSHQ1ZWVic2ZEazVMQ3RxN1NBclUtcjJxZU4xTVowR1hWeE5felM0aUVEcHd4Y29UQ2g3QzFZM0Z1Q0VPYkltVk14ZjIxMUtDOFdORVJzUUx3TFlPVVNPb1kxR0VhYURsenRGUFpIX2VPLUdZeFowNEE?oc=5\n",
      "Sat, 14 Dec 2024 05:00:02 GMT\n",
      "------------------------------------------------------------\n",
      "iPhone 17 Air starts its journey to mass production - GSMArena.com news - GSMArena.com\n",
      "https://news.google.com/rss/articles/CBMilgFBVV95cUxQOUxuSnZDX3V5ckgzdTVodjRiQUJGTXQzbGtaZEl4WVIxREdyVWRkSHhxS0lmWnBqcmlrNXVuZXR6SmVJajhVblpURWNLUm9rS3Y0OTFtamQwb0VseVdNR19fbUVrWW9qU1JNc0RhY19xZnlsbFNoNkZza28waUhabjk2eUVTLWowcDdnT3g3b09WaDFEcEHSAZIBQVVfeXFMUGwxRnJtSDB5b2k5aXZjMTQwR1J2NVFIT1NiMlBpUWJkYkd5Q1JwVU5fcnVsbEJraDRKWnYxcFp3dVN6S2VnUkdZSzBxRDVTenY3YVY1RThPaXp0cy1wSnh6TGRibmM3OEJGZDRtMko1ZXVUZk9RejFENUY4Zkg5bjhaS3dCd3czcHNSRHFIc0xpUHc?oc=5\n",
      "Sat, 14 Dec 2024 04:45:01 GMT\n",
      "------------------------------------------------------------\n",
      "Garena Free Fire MAX redeem codes for December 14, 2024: Grab freebies in battle royale game daily - Moneycontrol\n",
      "https://news.google.com/rss/articles/CBMi7wFBVV95cUxQWmZPRm80OVJfUDFuV0VTSXh2WVdldUw1aGVvLTV6UW1zY1JqcTJBNWwwNUlQOTk1VmhlWWpRMHlxMDl4eFFyZHo0NHBaU2h1amgxWUlydnhUSUNybGVmSVBKRGNqdlhzRHYxbGxIelVVcElIZUw0bXEwdlhFYk1rODZRTVdpQ1hod2FDd043UWRnWV9IVVB2cGlnOU11RjFYV19GeEE0ZVVwanBxWDVhdVc3Tml6dmdJZ3dyWl9SZVZZVmdKRHpzVlR2UFhKeGpyRGhNTFJPR1ptQWxGdDlLZ2o3SHR5NUFCUVI3dFhBUdIB9AFBVV95cUxNOUpqc0VTWmJNV1ItOE9YcjdlQTdiSldGaHlnYno1dG1RZVVfVUk2U3dESnVtM1NuUjNfTnZKV1ZSSjR1R1F1VEN0WmEtT0xlUGJ2MGQ5dTdBU1BVN25URVNqcTgyMEhtVEc5SC1FNXpYU2FsMmRQQ2RsU1lPX21TS0RFclEwdUtpanVHVGhPaXh1OXhiRjNxdW1mMVJVckVta05iR2Njb0UzTmFNTjladUh6UjlxaHlhTUxyNHlLTGJuTFpoMktwdXkybmsxM1lqQ0NqUVVSeGY0ZWZTU1lBVi16NENncUtSamMwVVcyZmpXUDZu?oc=5\n",
      "Sat, 14 Dec 2024 05:04:28 GMT\n",
      "------------------------------------------------------------\n",
      "[Exclusive] Redmi Note 14 4G and 5G variants European pricing leaked ahead of launch - 91mobiles\n",
      "https://news.google.com/rss/articles/CBMihAFBVV95cUxNZ1U4RXhub1lwUVVfYmtIQ1lXcjFVLXhSV05fRmNmVExxNlpIZENMTlNfTzRjUkY0djFlUVhvTjRJVFBWTl9iOG4tVEpFUjlMWG81Z0VMemlrSEdfRG5DOWJWX3ZxaGJudDRwVldlY01IVnNWODRTMjJSZTd4Y0V3bHhVMlM?oc=5\n",
      "Sat, 14 Dec 2024 05:07:06 GMT\n",
      "------------------------------------------------------------\n",
      "WhatsApp now offers you in-app dialer for calling unknown numbers - NewsBytes\n",
      "https://news.google.com/rss/articles/CBMinwFBVV95cUxOcnpCbDNobndpY3M0M3VsVEFvWkF0Y2piSml0ZjRvR1VlV09FOWlBbWhDMF9wRktKdGhnTklZX0I2SEtrdTBfY0p3RWkyQS1aQ3NUYVJrVjVGNnVVelNiZUZ2ZkNvcVQ1S0xvOG9tWXJvNEwyZy1OMmVpNHp4VkJPdURGOUVGbHNVSV9RNERMLWZ3T2UzeUpIM3NkTHdqak0?oc=5\n",
      "Sat, 14 Dec 2024 04:29:58 GMT\n",
      "------------------------------------------------------------\n",
      "Samantha Ruth Prabhu is ‘not crying’ watching Allu Arjun's emotional reunion with wife Sneha Reddy and kids - Hindustan Times\n",
      "https://news.google.com/rss/articles/CBMikgJBVV95cUxQTjE1Vkk0RWZUSW53RkdXZF9WNWl2T2piSVUxemR2TGxKcFAydHppYkFtRTUyVHRkRkVKdGdzZlZHM3UyVThOSl93QTg3NGNRN0c2V3IzdlZtX3NnWTJTRnpXMm5pN3RjdXlqX1Z5RWpVczRweG1tMVNkbzA0dlRRNTh0eW8zQkRFYmsxWHp2ak1abEViNHI0RG1CZzBEa1RhVVhjcGRyWjZ6WkU0VFMyaFhaTUdGSndjTm9kVmc3d3FFcy1CVklqRnlqenIyUnBtbjFwS0EzZ0ZsUjJRLVJqaHA3OVl0bGVhTVVNdTd0ZTVmUGR2THVDaGY4TUthVXJySDIyOFFOdnNSWUpvUDkwMGJR0gGXAkFVX3lxTFBHYjVHc25Ka1pHejBRSVM2dEw1Ti1BUDdoS3lhTi1WTEFCQkg1V1JDaExDLVczQTJIcldqV2NxT01DaG5TOVRLVXlXQUo0YlVmY250cTBWNjdYbUR4SURvYkhHdThhQ3RmUUdtOS1qYnV4eTJWRUFQdWdkbWQyaE9HbE85UTFxVWRnMmtHTFlxc3ZBMUptUl9lTnFlT19sVzl0NEs3OHhaWWQ1c3Vhb1Y3eGdyZUt2QXE3MVNyN1BTNFJROWtLRHc0cmJieGw5c0IyZ09qTE1WTFVNdFVWczFEbkN2em5JV29CNTQ3TGtaWEhVdFR5aVJybnJCeW9RQWpWUC1RZWs3U3J6Y1BuZmQ5M1JRT09Eaw?oc=5\n",
      "Sat, 14 Dec 2024 11:04:26 GMT\n",
      "------------------------------------------------------------\n",
      "Raj Kapoor centenary: How the greatest showman, an Everyman tramp, imagined a nation - Moneycontrol\n",
      "https://news.google.com/rss/articles/CBMi3wFBVV95cUxNTTRUZHNHRkhCLXhpS3EtSnZzSGtxRmJIaUNVLV9oWG92MDVnRDVfYkVkSGhSXzRiUTMxRVE3MGc5dFlHVFhteWRxRWlnekY1YUJBc3RiUmRUc3pYeE0zcFBJcDVJbHhlZXEyNmVFSXNiVXRpZmVHWEVBeERNaXNkM1lxcHdob2p6VmVJZF9BTEVRekhGX3dYUnJvclhrM1FXR0szSUpDa1ltVGp0MXhvbmlRek84UW45ZHVUemxObDNpczJWaDNfQ3BfMlhSYXNEUUxodUlsYXg5ZVItT0VR?oc=5\n",
      "Sat, 14 Dec 2024 09:54:04 GMT\n",
      "------------------------------------------------------------\n",
      "Anurag Kashyap says 'ye bhi gayi' as he shares pics from daughter Aaliyah Kashyap's wedding with Shane Gregoire - Hindustan Times\n",
      "https://news.google.com/rss/articles/CBMikgJBVV95cUxQQnpjRm9OcmJ2MC1ZLVZiVUJXSzM5UkRGUVZNQzJyYUZjUFd3akV3aDRWTnpmZGdzMmZYQzNTcS0zR0c0MnQxdGFVNEt3UHI2akdhS0NsWm9teGt5MWFVN0FjNDduMGVGbEpDR2JEb25NMF9KN0xNZTJ3bl9LQjd0emNKOWdHQ2tEM01PUXkwYkozR3BiWURuT2hha2d2V3pWN0NEeTQ5R3gxYlJyb1Q0RzhtNkJRdTFqUlh2X2o0SFdjajZobTFDR0d2Y0lpR2FkNGwxQXNsbTMxclE4M2lHeEhvdnlkbjR6QVBRSzlfa2RsRlVoanJZcHZuRFA1a2hHX2RSaVhSTWRYXzdyQWVmeXBn0gGXAkFVX3lxTE5nYmI5bTFnXzBGV1VPbHhtNDVFcFFObi1feVd6YlRTS3luRmU0MWVCNDdKUm5iODN0bmpJS09mYkxzMndVYzRZZDRGUi1mc1hvYzdLSktiSDNTd1F4enU1bVRrZ2FPSWREa3pQZkVySkg1UUJGX3hFalZ1ak1vWHRwUmlMUjR4M0t4YmZwT2doSkVlNFptU2drNDc5bUtkTWhsNFBMT3RiNENiWEFNSDM0RWpiT0h6M0V2M2U5Y1ZDbFppRkdHTlhvdlBUSmN4azRqX0RSRWZBTFZLNGl0MnJXd25uLWhuYW9nVUNoT0J3WVJGT1pnRWUxeUxtM3R2eWQtTk5NR0JhSlUwVkt3dVlIQTR2d09jZw?oc=5\n",
      "Sat, 14 Dec 2024 09:37:19 GMT\n",
      "------------------------------------------------------------\n",
      "Pushpa 2 (Hindi) Day 10 Box Office Trends: Allu Arjun starrer scores biggest second Saturday in history of Hindi Cinema - PINKVILLA\n",
      "https://news.google.com/rss/articles/CBMihgJBVV95cUxQXzBSeWtReHROWlFIWWtwMGxlTkItTVFRY0FtZUlJUnYtY3ExVG1vUndxT1ZVc1JIc0pzWGkwMFBQdXFodUhlUWk0a2ZUNTlQdU14cVFTLVk0R2dKR0FNVEJBTnVlZ05OZ2sxWER6X0pPNm54cW0zS3FUdU05UGZsaWR5YjJOaHFOOU5BQl9Mb3JZbzB2MGtMal9FeDhlenlsck9FLUxNTFRFM0hpOG56Q3FRVHRuNnZWSGdPNmN4MU9WSUxuOVl3YkpNWGhRb2l1SDBlT0xwUEthRGo3YVFuZ3lSNEY3RjZ3bTcyQUNtRVN2UUllWUY2UFY2V1lsMUFsMGRHZFF30gGLAkFVX3lxTE5neVRpT0IwN3NKSkRqMkZ4dmpQQk5XbFVqa01wVUI0bU9tbVBmdkYycHVOVGNVTTlfb0t2Q0FXUVp5eURpN0QxOThfSVpVVUsyT1NGVVFUaXQwSDd3eUNXYWR6OWplRFhBbmN0a3RlVHY5WnRoOWluenAtckR5ZDZxRTRQSHhxc2FMZlQzS3hOWWVGWk9vOGx0VnNhUzFaNGpsal9sV3FjUDhhNnlRaHkyZUtUQ1NsWF92OTEyV2RsdmJtZGkzb2lydWhjTFZXaXEwNGNYV3M0NFRnZGprZWdmdkthdXlPdjZ4XzktY09KQ3dkY0RJRnlwRFVYWHNMRDFaY0RZdnZZT253MA?oc=5\n",
      "Sat, 14 Dec 2024 10:39:02 GMT\n",
      "------------------------------------------------------------\n",
      "'Really surprised': Matthew Hayden reacts to Rohit's bold decision on Day 1 of Gabba Test - The Times of India\n",
      "https://news.google.com/rss/articles/CBMijgJBVV95cUxPbjMwM2U5Q0NMUHhybXJTVTdodnpsdnpfX2hGa2NTS1F0VURPM01rS2FoajlTeVJJQ1c1bEV0cWJOeE4wdjEzQTVsS0ZFdHJOOG12VEkxWUxXQVZzNENmbUJkbThZeG9WMTN6aHVKeFEzX0tiMHlFWDJ6OGt3bFQxVXQ3eUlFUzI2X1hsR2tySi1sb0VLZHhWUjBJRWNuZllmNl9JTzg5eGNicVlfUGFkd1Btbk1oeXVROExFRm0zbWJpNEM2ajVYWXpUa25mNVQ5a1dUaEx0WENCMjBzWk1uZ3dLUWtmYzNqVnpISmNVQjB3N1NUdG1PNnNMZkxacEQ5VWgyZ2VjVDVFSXZpb0E?oc=5\n",
      "Sat, 14 Dec 2024 09:13:00 GMT\n",
      "------------------------------------------------------------\n",
      "Viswanathan Anand Responds As Ex-World Champion Criticises D Gukesh's Title Triumph - NDTV Sports\n",
      "https://news.google.com/rss/articles/CBMivAFBVV95cUxPV2Q4UVVqRWk4WnI1OWpJRGYtRlNsa0QzQjl6U0EzdUU4dmd3d0VwZkRtc0lybUFPc0p4NHA2MHMxMEhEbEcwbEx5aXJUNEZyRGFtVEo0bzhaSTBucEk5YVZVY3ltZWd5Nks4ZzdpOERuN2RMTUx4eFkwSk1BRk9vTVYtU0NnOUJHVkZHbG5kdzE3RkdSbkdoUU9JRVl0bUZ2aGlWck9oVnk5MUMyZzdNSFpuZWVIc0NJNk45dNIBxAFBVV95cUxOZ25MSUFhd2VzV2FXOW5qMVVGT1JmV1JLTmpuRTViRGlMR0llRUowMFZfWUx6M0gyVTRBZ1lxX0ZTRWdoOFprOXpsOUlJWnM3NENfejJJZFRFYWFDenFFdm9naVY1dS04VmRxZ3EzbjBzLUZBdEdTS1psaHhaOHRYTHJtdjR3S2NGdG1hSFZNYk1TS2c5dTBQQWl0TFQzMEo5UV93ZWdVbFg1bDhuZW5LLVZfZWVqNDBuLVpLcHYtMTFRbkY4?oc=5\n",
      "Sat, 14 Dec 2024 08:54:56 GMT\n",
      "------------------------------------------------------------\n",
      "Now Physically Weak, Vinod Kambli Was Once Super Fit As Virat Kohli & Jadeja, Here's A Proof: Watch - News18\n",
      "https://news.google.com/rss/articles/CBMi2wFBVV95cUxOSFZnb2FENnNfVEViRkNaUk40Nm9aMkFURTdTOW1rY3dsRUhLRVR1V2NxNVhpRG8yaGpsNUpUTjFWellNdmZOX3lRRHNGcEFfU2xIN1ZFOHJ5N1lnNkxuQklMV3FwQnVFM2JvRW43V3M4UnRJRE5zbDFnU0doak5Yemdmb21jYUdCQ0xFWl9Ld2NUSjhfYWJEdEFkT21DRTRTUXhMZDFONTJYcUlKcGxta2dKM3p1THBOR2g3LUVaNXV0UTdDX0x0c0d4RXlVaXV0Nno3RHJUYWctUFXSAeABQVVfeXFMT2dJOXFMcjV6dFVsVE9FWk0zZ2tpTlVLVXdZeE15QkdlN0VIT2Qya1JzTkdJWGQxakZlc01lTWhDQmVIQlZMZ0s4OXZXSzJwRTdnR3AyZkxRQzNPbE5QXy1YNHI2bWRfQlZZZXZxOEMzRjU4YWVmSjVTNnZCOWktMDdzNjZPTHNmNDNHS2FyTmNRV2djb1hoZjROQktuMlRBV1VmLWRwSDY0RDc1dEpzQ2lYNC12ZlZURDFkaGRIVlNZQ2xVb0JuMzd3N3cwaTF1YjJPRFZXcnhQcGg2bzc3RlQ?oc=5\n",
      "Sat, 14 Dec 2024 03:56:58 GMT\n",
      "------------------------------------------------------------\n",
      "Imad, Amir announce retirement from international cricket - ICC Cricket\n",
      "https://news.google.com/rss/articles/CBMimgFBVV95cUxOQ0NYbUczRUZyUkFReGZxT2MxYlN0aHh4d2lIc25TM3ZwM3FfUG5DNkQzMHNfR0ZWTkdDM3pLZlFKRExmeFFRblJVTjZnbXZGSGRSQlUwN09pd19wb3hzWFd2RDRCcU5FdGJtUjhJZWZRX2tFMlJPYURRTFk4czdIbmZHcEEzRHFtOVA2dEtHZjFaMHI5R2duNXpB?oc=5\n",
      "Sat, 14 Dec 2024 08:37:30 GMT\n",
      "------------------------------------------------------------\n",
      "NASA Captures Active Volcano Eruption On Jupiter's Moon Io, Ending 44-Year-Old Mystery | WATCH - Jagran English\n",
      "https://news.google.com/rss/articles/CBMiygFBVV95cUxNNlZ5T2FLUDMxUnV3azZJNlZsR2J4a3QzNkdjQ0pIcjJ2SDFoUmFtMzJ3SnhsN0xwamFyRWpoX1VJeGVCU0FVQ045azN1a3lVQUlwc1VlTGZ1eGswOU9lRDZuQXNydEhNM0dVTFhKQTVDeFV3MjFJNThrS193UHRSaThlVF82Nm5ZX2N2SGZSSEZKeEYtU0N4X2Zqc3NpZVEtTmtVYlNPLXZfeVItZnpZc1dHMy13VVdFRmRxUHU0YUNxZnhjak9lZjdn?oc=5\n",
      "Sat, 14 Dec 2024 12:00:00 GMT\n",
      "------------------------------------------------------------\n",
      "NASA's critical warning: A 200-foot, airplane-sized asteroid is approaching Earth at high speed tomorrow - Moneycontrol\n",
      "https://news.google.com/rss/articles/CBMi8wFBVV95cUxPT2dFYWNscFJEa3k0RHladUY5ZVlEOHBqNEstRFA3Z0VNZzNKMDJnSmZFc0Y2Wl90WFZHQjJQUDIyOVJVMFB6QkF3dVhWYTVsYnFObTFzR25xT01fckt2T1daTGRIVVdSaW5tR29KdGRVUkJDMlEzTno4cGJoU2NkU0lyanlpWVRIOVJjb0FSeXlJV3lDVzdpLVF2ZUM3bFE0NEJjQXFlcURQakNiSzhZNnpBSzRlTjI3dFZ2LUVpTHJKdkdNSUZpaG9MOTVqQldGNVNoNkdTME5wdENfY3N2STBjcDQ0TnI4N24xRkVXS0R3QXPSAfgBQVVfeXFMUGc3S3N4VlZGRTdaUUNhUDNQaU1tcHl4d1BxZ3ZGT2FCTWxWTTBSR1MxY0pVV3FJdUV0bUNVc21WNWNTczB4aDJoN2NWMWh0NFRnLUxIVFBLc1ZPVUltSG5GeXJqeDNqRjRCODJTSkQ0MFI3a3dlRDdPRHdWSF9yUTh4dG5ZVkVoNFUzWENUSk5PbGRaVkhaVW52T2Utd3NCQ0UyQUpEcEFOZE12M1czVUdibGtGQmJLejQxME5QT29qRzBVekFSeXdQSUlFS0pob0x0dm8yd0RCS0NxWDIxakhVdFBHVEphM2ZPNXJUZmswZDdmTHJLRGo?oc=5\n",
      "Sat, 14 Dec 2024 09:30:41 GMT\n",
      "------------------------------------------------------------\n",
      "'Tragedy of the commons' in space: We need to act now to prevent an orbital debris crisis, scientists say - Space.com\n",
      "https://news.google.com/rss/articles/CBMi5wFBVV95cUxOMFNBSHZoUlJlbTRCYWp0ZTFQd2l0YVgyNkZwVjZTWlZZS05jb3VJQ3pBTWdIU3ZMNXBteEVCN3VmZk1tRGhGdm1BeloxZkhleVc5d3JYWGtYbjlOR3kxak9oMzZBS0RHcTNCYU40UGtjSGU1dEVVcVFoaXBxWk5mZzBUbS1QcUlBaThER2phX25sTndTTFVNVWpvX19ac0haSWQ1TTdUSGdCTHZKT202aF9TeThKbnRETDJKc3k3TmpwZ1F0TUJ4NnBKeUpuY0Y4TnZ5Vll5UGRMRjZtdlNSS2NYOWstUTQ?oc=5\n",
      "Fri, 13 Dec 2024 13:00:00 GMT\n",
      "------------------------------------------------------------\n",
      "5 latest images universe captured by NASA James Webb Space Telescope - HT Tech\n",
      "https://news.google.com/rss/articles/CBMizAFBVV95cUxOeTcybTNSYldwR0RTeVcwd0swNWpvQWJyS09rQmhtZ0xlemVqb2VKM2ZnNENmbnlweVl0X2hqU1c1cjVfMk9lNWdFUWpzSVA3Mk4zQ1FwQ3NnX3VzNnI2ekk1Q2UtVW55WThTa19iN3dPVzF0aVJ5dFRWVWVxY0s4a1VQVG90T3pqNFU3djUzNldlQi1MeUhVdWFZM2p4MTVuc1YwUE5oYXdvOWY1SWFXLUp6MDFLakdFXzU2cDVHUGJVQXJWRGNvbFQzLVfSAcwBQVVfeXFMTnk3Mm0zUmJXcEdEU3lXMHdLMDVqb0FicktPa0JobWdMZXplam9lSjNmZzRDZm55cHlZdF9oalNXNXI1XzJPZTVnRVFqc0lQNzJOM0NRcENzZ191czZyNnpJNUNlLVVueVk4U2tfYjd3T1cxdGlSeXRUVlVlcWNLOGtVUFRvdE96ajRVN3Y1MzZXZUItTHlIVXVhWTNqeDE1bnNWMFBOaGF3bzlmNUlhVy1KejAxS2pHRV81NnA1R1BiVUFyVkRjb2xUMy1X?oc=5\n",
      "Sat, 14 Dec 2024 01:30:01 GMT\n",
      "------------------------------------------------------------\n",
      "5 reasons why beauty sleep is important - Health shots\n",
      "https://news.google.com/rss/articles/CBMinwFBVV95cUxPaVpsOVREZGR2eVRZLVFEb2RkbDdkdGhwRGNFeDZ0cUQxR01wbUVrbURoTmpzYUxSWURGT3gyQ3BPVmJBV2s3NFp5MjYzbFpWMkkxazhRSF9RS09GLUYxdFJmSmx2Q2w2UXZ2STFWVTlsQ0g2Q09VaU91UGhaMzFlNm5WSEhldW1yWWdxQ3J2d2hVQnZFcUcyZ3NDSjRia0nSAZ8BQVVfeXFMT2labDlURGRkdnlUWS1RRG9kZGw3ZHRocERjRXg2dHFEMUdNcG1Fa21EaE5qc2FMUllERk94MkNwT1ZiQVdrNzRaeTI2M2xaVjJJMWs4UUhfUUtPRi1GMXRSZkpsdkNsNlF2dkkxVlU5bENINkNPVWlPdVBoWjMxZTZuVkhIZXVtcllncUNydndoVUJ2RXFHMmdzQ0o0YmtJ?oc=5\n",
      "Sat, 14 Dec 2024 04:30:08 GMT\n",
      "------------------------------------------------------------\n",
      "Dr Jitendra releases landmark RSSDI study ‘Yoga and Diabetes Prevention’ - Daily Excelsior\n",
      "https://news.google.com/rss/articles/CBMipAFBVV95cUxPdGRpRkU1d0tUZzdpMVlpMUgwSTVzdDE4VEZPSTBwUFctWXlxSzJKVXhJd29DSGYxV0lZMHpKUUs5Yi1nUFJucGpmWlAwUWtzcGpFZ3BORlRoRU9RN05RV2lLaHFSVWxzOHQ5MzR0THdxaE5mWnQwekhtRjVuRjhlMEhFQzVDSVN1cFU5ZWtlbnAxSE1iN295emVQQk9jUGpQVmFlYg?oc=5\n",
      "Sat, 14 Dec 2024 00:00:03 GMT\n",
      "------------------------------------------------------------\n",
      "Fluctuating weather fuels surge in allergies, conjunctivitis cases - Deccan Herald\n",
      "https://news.google.com/rss/articles/CBMirgFBVV95cUxORGczZTljUGIzdmNfbE5qMWxydWpOVlFMSEl2d3NYYlhBRlFkQkZ3aXVrSzctbkFUbnM2WnNVeWltbFo3VW1ZN1JxMzZOTE0wbVRSd1FJR1dVZlI2YnloYVNCTGZtTi1ESldXelJRQmV5UVNpUXZDTmJkekxJNlhrT3E0NkxlV2l0MXlLbEJjM0YyaXBDNGV1YlI3Zl85RUQyUUsxTG5mR3MxekdNMnc?oc=5\n",
      "Fri, 13 Dec 2024 23:39:00 GMT\n",
      "------------------------------------------------------------\n",
      "‘PHCs, GHs have adequate stock of Hepatitis B and Pentavalent vaccines’ - The Hindu\n",
      "https://news.google.com/rss/articles/CBMi0wFBVV95cUxOWlRyS1NOMUE5ZWJGVGpkVVZ5ZkZyUWk5RlZaNktmRnRsUGFmUGlNZExMLTNIM1V0MEo5TVpEbUp0WjA4N2c0ZlBPdHlsUFgxdk51RlZPemVVOHJjZ01ZYjgwVW5BT1daZ3hDZFhuS1l6SlNKY1dWSVpScFQxWHVsb0pxU2hXR3JGbTgtOF9UZ2YweFUwQnZiMGh2MjFob1JFWTVKeEhJUmJxYWNzZ1dES01OSS1jSEZiUHp2alVINzEyM1NwMjNFMko4TXNUeWdSZmFv0gHaAUFVX3lxTE9rejUzcmlmQ2U2X2FpREVBTkdmdmVJanNoRk9JY04tQmFXeU5BakFwMTRtUTZqUmp1Y3lvWEVWc2lxNFYyWEVKR2FrcVNLdzZoSHA1bUpCQXFIcU94RjlUcXVlaTN3d2ozTnVDUGh1bUE5cXp5N3IyNTJBX2RCdU1LREdjamtyV056S1ZBZEFxRVVxRVpHRUJPemw1Z2FGaVJ5R1M1WEROMERfLVdRb1l5dkNPWVlhX3dmYVZYaUZFZ2pZZFFFSHFWdnl6aW1CVG9SLUZyWlJobDB3?oc=5\n",
      "Fri, 13 Dec 2024 18:59:00 GMT\n",
      "------------------------------------------------------------\n"
     ]
    }
   ],
   "source": [
    "# Import the 'bs4' module for web scraping and 'urlopen' function for opening URLs.\n",
    "import bs4\n",
    "from bs4 import BeautifulSoup as soup\n",
    "from urllib.request import urlopen\n",
    "\n",
    "# URL of the news RSS feed\n",
    "news_url = \"https://news.google.com/news/rss\"\n",
    "\n",
    "# Open the URL using 'urlopen' and read the content of the webpage.\n",
    "Client = urlopen(news_url)\n",
    "xml_page = Client.read()\n",
    "Client.close()\n",
    "\n",
    "# Create a BeautifulSoup object to parse the XML content of the webpage.\n",
    "soup_page = soup(xml_page, \"xml\")\n",
    "\n",
    "# Find all XML tags with the name \"item\" to extract news items.\n",
    "news_list = soup_page.findAll(\"item\")\n",
    "\n",
    "# Print news title, URL, and publish date for each news item.\n",
    "for news in news_list:\n",
    "    print(news.title.text)\n",
    "    print(news.link.text)\n",
    "    print(news.pubDate.text)\n",
    "    print(\"-\" * 60)\n"
   ]
  },
  {
   "cell_type": "code",
   "execution_count": 30,
   "metadata": {},
   "outputs": [
    {
     "name": "stdout",
     "output_type": "stream",
     "text": [
      "{(10, 20, 40)}\n",
      "{(10, 30, 30), (10, 20, 40)}\n",
      "{(10, 30, 30), (10, 20, 40), (10, 40, 20)}\n",
      "{(10, 30, 30), (20, 10, 40), (10, 20, 40), (10, 40, 20)}\n",
      "{(10, 20, 40), (20, 20, 30), (20, 10, 40), (10, 40, 20), (10, 30, 30)}\n",
      "{(10, 20, 40), (20, 20, 30), (20, 10, 40), (10, 40, 20), (20, 30, 20), (10, 30, 30)}\n",
      "{(10, 20, 40), (20, 40, 10), (20, 20, 30), (20, 10, 40), (10, 40, 20), (20, 30, 20), (10, 30, 30)}\n"
     ]
    }
   ],
   "source": [
    "import itertools\n",
    "from functools import partial\n",
    "\n",
    "# Define three lists and a target sum value.\n",
    "X = [10, 20, 20, 20]\n",
    "Y = [10, 20, 30, 40]\n",
    "Z = [10, 30, 40, 20]\n",
    "T = 70\n",
    "\n",
    "# Define a function to check if the sum of a set of numbers equals a given target.\n",
    "def check_sum_array(N, *nums):\n",
    "    if sum(x for x in nums) == N:\n",
    "        return (True, nums)\n",
    "    else:\n",
    "        return (False, nums)\n",
    "\n",
    "# Generate the Cartesian product of the three lists.\n",
    "pro = itertools.product(X, Y, Z)\n",
    "\n",
    "# Create a partial function using the 'check_sum_array' function and the target sum 'T'.\n",
    "func = partial(check_sum_array, T)\n",
    "\n",
    "# Use 'starmap' to apply the partial function to each element in the Cartesian product.\n",
    "sums = list(itertools.starmap(func, pro))\n",
    "\n",
    "# Use a set to store unique valid combinations.\n",
    "result = set()\n",
    "\n",
    "# Iterate through the sums and print unique valid combinations.\n",
    "for s in sums:\n",
    "    if s[0] == True and s[1] not in result:\n",
    "        result.add(s[1])\n",
    "        print(result)\n"
   ]
  },
  {
   "cell_type": "code",
   "execution_count": 1,
   "metadata": {},
   "outputs": [],
   "source": [
    "## Python: Calculate the length of a string\n",
    "\n",
    "\n",
    "def counter(i):\n",
    "    count = 0\n",
    "\n",
    "    for j in i:\n",
    "        if j != ' ':\n",
    "            count += 1\n",
    "    print(count)\n",
    "\n"
   ]
  },
  {
   "cell_type": "code",
   "execution_count": 9,
   "metadata": {},
   "outputs": [
    {
     "name": "stdout",
     "output_type": "stream",
     "text": [
      "{'sure!': 1, 'here’s': 1, 'a': 15, 'randomly': 1, 'generated': 1, 'essay': 3, 'on': 12, 'broad': 1, 'topic,': 1, '“the': 1, 'impact': 5, 'of': 46, 'technology': 28, 'modern': 4, 'society”:': 1, 'the': 61, 'society': 3, 'has': 18, 'become': 3, 'an': 1, 'integral': 1, 'part': 1, 'society,': 2, 'revolutionizing': 2, 'way': 2, 'we': 1, 'live,': 1, 'work,': 2, 'and': 61, 'interact': 1, 'with': 5, 'world': 2, 'around': 1, 'us.': 1, 'from': 2, 'advent': 1, 'internet': 4, 'to': 24, 'proliferation': 2, 'smartphones,': 1, 'is': 9, 'profound,': 1, 'spanning': 1, 'multiple': 1, 'dimensions': 1, 'human': 3, 'life.': 1, 'this': 3, 'explores': 1, 'how': 4, 'shapes': 2, 'various': 1, 'aspects': 1, 'our': 1, 'including': 1, 'communication,': 3, 'education,': 4, 'healthcare,': 2, 'entertainment,': 2, 'while': 5, 'also': 8, 'examining': 1, 'its': 4, 'potential': 3, 'drawbacks.': 1, 'advancements': 4, 'in': 20, 'communication': 3, 'one': 1, 'most': 1, 'significant': 1, 'impacts': 1, 'realm': 1, 'communication.': 1, 'brought': 1, 'closer,': 1, 'making': 3, 'it': 7, 'possible': 1, 'connect': 1, 'people': 3, 'across': 1, 'globe': 1, 'real': 2, 'time.': 1, 'social': 5, 'media': 3, 'platforms': 5, 'like': 11, 'facebook,': 1, 'instagram,': 1, 'twitter': 1, 'allow': 2, 'individuals': 5, 'share': 3, 'their': 3, 'thoughts,': 1, 'experiences,': 1, 'opinions': 1, 'instantly.': 1, 'applications': 1, 'such': 4, 'as': 6, 'whatsapp': 1, 'zoom': 1, 'have': 5, 'redefined': 2, 'personal': 3, 'professional': 2, 'enabling': 1, 'video': 2, 'calls': 1, 'virtual': 3, 'meetings.': 1, 'however,': 4, 'evolution': 1, 'not': 2, 'been': 1, 'without': 1, 'challenges.': 3, 'fosters': 2, 'connections,': 2, 'contributed': 1, 'rise': 3, 'cyberbullying,': 1, 'misinformation,': 1, 'erosion': 1, 'privacy.': 2, 'dependency': 1, 'digital': 6, 'has,': 1, 'some': 1, 'cases,': 1, 'diminished': 1, 'value': 1, 'face-to-face': 1, 'interactions,': 1, 'raising': 1, 'concerns': 5, 'about': 6, 'quality': 1, 'relationships.': 1, 'education': 2, 'era': 1, 'revolutionized': 3, 'learning': 1, 'more': 2, 'accessible': 1, 'personalized.': 1, 'online': 3, 'khan': 1, 'academy,': 1, 'coursera,': 1, 'edx': 1, 'provide': 2, 'courses': 1, 'diverse': 1, 'subjects,': 1, 'allowing': 1, 'learn': 1, 'at': 2, 'own': 1, 'pace.': 1, 'covid-19': 1, 'pandemic': 1, 'accelerated': 1, 'adoption': 2, 'classrooms,': 1, 'where': 2, 'tools': 2, 'google': 1, 'classroom': 1, 'microsoft': 1, 'teams': 1, 'became': 1, 'indispensable': 1, 'for': 8, 'teachers': 1, 'students.': 1, 'democratized': 1, 'highlighted': 1, 'divide.': 1, 'everyone': 1, 'equal': 1, 'access': 3, 'devices': 3, 'reliable': 1, 'creating': 1, 'gap': 1, 'between': 4, 'those': 2, 'who': 2, 'can': 4, 'benefit': 1, 'these': 2, 'cannot.': 1, 'additionally,': 2, 'over-reliance': 1, 'raises': 3, 'reduced': 2, 'critical': 2, 'thinking': 1, 'skills': 1, 'diminishing': 1, 'role': 2, 'traditional': 2, 'teaching': 1, 'methods.': 1, 'transformations': 1, 'healthcare': 4, 'integration': 2, 'led': 2, 'remarkable': 1, 'diagnosis,': 1, 'treatment,': 1, 'patient': 3, 'care.': 2, 'electronic': 2, 'health': 2, 'records': 1, '(ehrs)': 1, 'doctors': 1, 'information': 1, 'efficiently,': 1, 'enhancing': 1, 'accuracy': 1, 'diagnoses.': 1, 'wearable': 1, 'fitness': 1, 'trackers': 1, 'smartwatches': 1, 'enable': 1, 'monitor': 1, 'time,': 1, 'promoting': 2, 'preventive': 1, 'furthermore,': 1, 'technologies': 3, 'artificial': 1, 'intelligence': 1, '(ai)': 1, 'robotics': 1, 'are': 1, 'medical': 2, 'procedures.': 1, 'ai': 3, 'algorithms': 1, 'analyze': 1, 'vast': 1, 'amounts': 1, 'data': 4, 'identify': 1, 'patterns,': 1, 'aiding': 1, 'early': 1, 'disease': 1, 'detection.': 1, 'robotic': 1, 'surgeries': 1, 'ensure': 2, 'precision,': 1, 'reducing': 2, 'recovery': 1, 'times': 1, 'improving': 1, 'outcomes.': 1, 'despite': 1, 'benefits,': 1, 'presents': 1, 'increasing': 2, 'reliance': 1, 'systems': 1, 'security': 3, 'high': 1, 'cost': 1, 'advanced': 1, 'may': 1, 'exacerbate': 1, 'existing': 1, 'inequalities': 1, 'access.': 1, 'entertainment': 3, 'industry': 1, 'transformed': 1, 'industry,': 1, 'offering': 2, 'new': 3, 'ways': 1, 'create,': 1, 'consume,': 1, 'content.': 1, 'streaming': 1, 'netflix,': 1, 'youtube,': 1, 'spotify': 1, 'movies,': 1, 'music,': 1, 'shows,': 1, 'providing': 1, 'on-demand': 1, 'content': 3, 'tailored': 1, 'individual': 2, 'preferences.': 1, 'games,': 1, 'augmented': 1, 'reality': 2, '(ar),': 1, '(vr)': 1, 'created': 2, 'immersive': 1, 'experiences': 1, 'that': 5, 'captivate': 1, 'audiences': 1, 'worldwide.': 1, 'democratization': 1, 'creation': 1, 'through': 2, 'empowered': 2, 'influencers,': 1, 'filmmakers,': 1, 'musicians.': 1, 'raised': 2, 'screen': 1, 'addiction,': 1, 'attention': 1, 'spans,': 1, 'negative': 1, 'certain': 1, 'mental': 2, 'health.': 2, 'economic': 2, 'workplace': 2, 'innovations': 3, 'into': 2, 'industries': 2, 'opportunities.': 1, 'automation,': 1, 'powered': 2, 'by': 7, 'machine': 1, 'learning,': 1, 'streamlined': 1, 'processes,': 1, 'efficiency': 1, 'productivity.': 1, 'remote': 1, 'facilitated': 2, 'slack': 1, 'trello,': 1, 'viable': 1, 'option': 1, 'many': 1, 'businesses,': 1, 'flexibility': 1, 'employees.': 1, 'technological': 4, 'displacement': 1, 'jobs,': 1, 'particularly': 1, 'heavily': 1, 'reliant': 1, 'manual': 1, 'labor.': 1, 'gig': 1, 'economy,': 1, 'characterized': 1, 'uber': 1, 'airbnb,': 1, 'introduced': 1, 'employment': 1, 'models': 1, 'but': 1, 'job': 1, 'worker': 1, 'rights.': 1, 'environmental': 6, 'considerations': 1, 'plays': 1, 'dual': 1, 'addressing': 3, 'renewable': 1, 'energy,': 1, 'solar': 1, 'panels': 1, 'wind': 1, 'turbines,': 1, 'contribute': 2, 'greenhouse': 1, 'gas': 1, 'emissions.': 1, 'smart': 2, 'agriculture,': 1, 'precision': 1, 'farming,': 1, 'optimize': 1, 'resource': 2, 'use,': 1, 'minimizing': 1, 'waste': 1, 'impact.': 1, 'conversely,': 1, 'production': 1, 'disposal': 1, 'degradation.': 1, 'e-waste': 1, 'growing': 1, 'concern,': 1, 'millions': 1, 'tons': 1, 'discarded': 1, 'electronics': 1, 'polluting': 1, 'planet': 1, 'annually.': 1, 'balancing': 1, 'progress': 1, 'sustainability': 1, 'remains': 1, 'challenge.': 1, 'ethical': 3, 'implications': 2, 'rapid': 1, 'pace': 1, 'innovation': 2, 'important': 1, 'questions.': 1, 'issues': 1, 'privacy,': 1, 'algorithmic': 1, 'bias,': 1, 'use': 1, 'demand': 1, 'careful': 2, 'consideration.': 1, 'becomes': 1, 'integrated': 1, 'daily': 1, 'life,': 1, 'boundaries': 1, 'physical': 1, 'worlds': 1, 'blur,': 1, 'challenging': 1, 'notions': 1, 'identity': 1, 'morality.': 1, 'moreover,': 1, 'influence': 1, 'societal': 1, 'norms': 1, 'evident': 1, '“surveillance': 1, 'society.”': 1, 'governments': 1, 'corporations': 1, 'leverage': 1, 'monitoring': 1, 'collection,': 1, 'sparking': 1, 'debates': 1, 'balance': 2, 'freedoms.': 1, 'development': 1, 'reshaped': 1, 'approach': 2, 'growth': 1, 'self-improvement.': 1, 'apps': 1, 'fitness,': 1, 'meditation,': 1, 'productivity': 1, 'set': 1, 'achieve': 1, 'goals.': 1, 'linkedin': 1, 'forums': 1, 'opportunities': 1, 'networking': 1, 'development.': 1, 'yet,': 1, 'constant': 1, 'connectivity': 1, 'be': 1, 'overwhelming.': 1, 'phenomenon': 1, '“doomscrolling”': 1, 'pressure': 1, 'maintain': 1, 'curated': 1, 'persona': 1, 'take': 1, 'toll': 1, 'striking': 1, 'leveraging': 2, 'self-improvement': 1, 'avoiding': 1, 'pitfalls': 1, 'essential.': 1, 'future': 2, 'looking': 1, 'ahead,': 1, 'address': 1, 'global': 2, 'challenges': 2, 'immense.': 1, 'fields': 1, 'biotechnology,': 1, 'quantum': 1, 'computing,': 1, 'space': 1, 'exploration': 1, 'hold': 1, 'promise': 1, 'solving': 1, 'problems': 1, 'seemed': 1, 'insurmountable': 1, 'past.': 1, 'cities,': 1, 'things': 1, '(iot),': 1, 'aim': 1, 'enhance': 1, 'urban': 1, 'living': 1, 'efficient': 1, 'management': 1, 'sustainable': 1, 'practices.': 1, 'realizing': 1, 'requires': 1, 'ethical,': 1, 'social,': 1, 'progress.': 2, 'policymakers,': 1, 'technologists,': 1, 'large': 1, 'must': 1, 'collaborate': 1, 'serves': 1, 'force': 1, 'good,': 1, 'inclusivity,': 1, 'equity,': 1, 'sustainability.': 1, 'conclusion': 1, 'double-edged': 1, 'sword': 1, 'every': 1, 'facet': 1, 'society.': 1, 'poses': 1, 'require': 1, 'navigation.': 1, 'ultimately': 1, 'determined': 1, 'used,': 1, 'imperative': 1, 'responsibility': 1, 'foresight.': 1, 'benefits': 1, 'drawbacks,': 1, 'pave': 1, 'enhances': 1, 'well-being': 1, 'would': 1, 'you': 1, 'expanded': 1, 'particular': 1, 'section': 1, 'or': 1, 'adapted': 1, 'specific': 1, 'theme?': 1}\n"
     ]
    }
   ],
   "source": [
    "# Count character frequency in a string.\n",
    "\n",
    "def char_frequency(string):\n",
    "    countDict = { }\n",
    "    for i in string:\n",
    "            if i.isalpha():\n",
    "                if i in countDict:\n",
    "                    countDict[i] += 1\n",
    "                else:\n",
    "                    countDict[i] = 1\n",
    "    print(countDict)\n",
    "\n",
    "def word_freq(string):\n",
    "    countDict = { }\n",
    "    words = string.split()\n",
    "\n",
    "    for word in words:\n",
    "        word = word.lower()\n",
    "        if word in countDict:\n",
    "            countDict[word] += 1\n",
    "        else:\n",
    "            countDict[word] = 1\n",
    "    print(countDict)\n",
    "            \n",
    "\n",
    "essay = '''Sure! Here’s a randomly generated essay on a broad topic, “The Impact of Technology on Modern Society”:\n",
    "\n",
    "The Impact of Technology on Modern Society\n",
    "\n",
    "Technology has become an integral part of modern society, revolutionizing the way we live, work, and interact with the world around us. From the advent of the internet to the proliferation of smartphones, the impact of technology is profound, spanning multiple dimensions of human life. This essay explores how technology shapes various aspects of our society, including communication, education, healthcare, and entertainment, while also examining its potential drawbacks.\n",
    "\n",
    "Advancements in Communication\n",
    "\n",
    "One of the most significant impacts of technology is in the realm of communication. The internet has brought the world closer, making it possible to connect with people across the globe in real time. Social media platforms like Facebook, Instagram, and Twitter allow individuals to share their thoughts, experiences, and opinions instantly. Applications such as WhatsApp and Zoom have redefined personal and professional communication, enabling video calls and virtual meetings.\n",
    "\n",
    "However, the evolution of communication has not been without its challenges. While social media fosters connections, it has also contributed to the rise of cyberbullying, misinformation, and the erosion of privacy. The dependency on digital communication has, in some cases, diminished the value of face-to-face interactions, raising concerns about the quality of human relationships.\n",
    "\n",
    "Education in the Digital Era\n",
    "\n",
    "Technology has revolutionized education, making learning more accessible and personalized. Online platforms such as Khan Academy, Coursera, and edX provide courses on diverse subjects, allowing individuals to learn at their own pace. The COVID-19 pandemic accelerated the adoption of virtual classrooms, where tools like Google Classroom and Microsoft Teams became indispensable for teachers and students.\n",
    "\n",
    "While technology has democratized education, it has also highlighted the digital divide. Not everyone has equal access to devices and reliable internet connections, creating a gap between those who can benefit from these advancements and those who cannot. Additionally, the over-reliance on technology in education raises concerns about reduced critical thinking skills and the diminishing role of traditional teaching methods.\n",
    "\n",
    "Transformations in Healthcare\n",
    "\n",
    "The integration of technology in healthcare has led to remarkable advancements in diagnosis, treatment, and patient care. Electronic health records (EHRs) allow doctors to access and share patient information efficiently, enhancing the accuracy of diagnoses. Wearable devices like fitness trackers and smartwatches enable individuals to monitor their health in real time, promoting preventive care.\n",
    "\n",
    "Furthermore, technologies like artificial intelligence (AI) and robotics are revolutionizing medical procedures. AI algorithms analyze vast amounts of data to identify patterns, aiding in early disease detection. Robotic surgeries ensure precision, reducing recovery times and improving patient outcomes.\n",
    "\n",
    "Despite these benefits, the adoption of technology in healthcare also presents challenges. The increasing reliance on digital systems raises concerns about data security and privacy. Additionally, the high cost of advanced medical technologies may exacerbate existing inequalities in healthcare access.\n",
    "\n",
    "The Entertainment Industry\n",
    "\n",
    "Technology has transformed the entertainment industry, offering new ways to create, consume, and share content. Streaming platforms like Netflix, YouTube, and Spotify have revolutionized how people access movies, music, and shows, providing on-demand content tailored to individual preferences. Video games, augmented reality (AR), and virtual reality (VR) have created immersive experiences that captivate audiences worldwide.\n",
    "\n",
    "The democratization of content creation through social media has empowered individuals to become influencers, filmmakers, and musicians. However, the proliferation of digital entertainment has raised concerns about screen addiction, reduced attention spans, and the negative impact of certain content on mental health.\n",
    "\n",
    "Economic and Workplace Innovations\n",
    "\n",
    "The integration of technology into the workplace has redefined industries and created new economic opportunities. Automation, powered by AI and machine learning, has streamlined processes, increasing efficiency and productivity. Remote work, facilitated by tools like Slack and Trello, has become a viable option for many businesses, offering flexibility to employees.\n",
    "\n",
    "However, technological advancements have also led to the displacement of jobs, particularly in industries heavily reliant on manual labor. The rise of the gig economy, characterized by platforms like Uber and Airbnb, has introduced new employment models but also raised concerns about job security and worker rights.\n",
    "\n",
    "Environmental Considerations\n",
    "\n",
    "Technology plays a dual role in addressing environmental challenges. Innovations in renewable energy, such as solar panels and wind turbines, contribute to reducing greenhouse gas emissions. Smart technologies in agriculture, like precision farming, optimize resource use, minimizing waste and environmental impact.\n",
    "\n",
    "Conversely, the production and disposal of electronic devices contribute to environmental degradation. E-waste is a growing concern, with millions of tons of discarded electronics polluting the planet annually. Balancing technological progress with environmental sustainability remains a critical challenge.\n",
    "\n",
    "Social and Ethical Implications\n",
    "\n",
    "The rapid pace of technological innovation raises important social and ethical questions. Issues such as data privacy, algorithmic bias, and the ethical use of AI demand careful consideration. As technology becomes more integrated into daily life, the boundaries between the physical and digital worlds blur, challenging traditional notions of identity and morality.\n",
    "\n",
    "Moreover, the influence of technology on societal norms is evident in the rise of the “surveillance society.” Governments and corporations leverage technology for monitoring and data collection, sparking debates about the balance between security and individual freedoms.\n",
    "\n",
    "Technology and Personal Development\n",
    "\n",
    "Technology has reshaped how individuals approach personal growth and self-improvement. Apps for fitness, meditation, and productivity have empowered people to set and achieve goals. Platforms like LinkedIn and online forums provide opportunities for networking and professional development.\n",
    "\n",
    "Yet, the constant connectivity facilitated by technology can also be overwhelming. The phenomenon of “doomscrolling” and the pressure to maintain a curated online persona can take a toll on mental health. Striking a balance between leveraging technology for self-improvement and avoiding its pitfalls is essential.\n",
    "\n",
    "The Future of Technology\n",
    "\n",
    "Looking ahead, the potential of technology to address global challenges is immense. Innovations in fields like biotechnology, quantum computing, and space exploration hold the promise of solving problems that seemed insurmountable in the past. Smart cities, powered by the Internet of Things (IoT), aim to enhance urban living through efficient resource management and sustainable practices.\n",
    "\n",
    "However, realizing this potential requires addressing the ethical, social, and environmental implications of technological progress. Policymakers, technologists, and society at large must collaborate to ensure that technology serves as a force for good, promoting inclusivity, equity, and sustainability.\n",
    "\n",
    "Conclusion\n",
    "\n",
    "Technology is a double-edged sword that shapes every facet of modern society. While it has revolutionized communication, education, healthcare, and entertainment, it also poses challenges that require careful navigation. The impact of technology is ultimately determined by how it is used, making it imperative to approach innovation with responsibility and foresight. By leveraging the benefits of technology while addressing its drawbacks, society can pave the way for a future where technology enhances human well-being and fosters global progress.\n",
    "\n",
    "Would you like this essay expanded on a particular section or adapted to a specific theme?'''\n",
    "\n",
    "#char_frequency(essay)\n",
    "word_freq(essay)"
   ]
  },
  {
   "cell_type": "code",
   "execution_count": 11,
   "metadata": {},
   "outputs": [
    {
     "data": {
      "text/plain": [
       "'w3ce'"
      ]
     },
     "execution_count": 11,
     "metadata": {},
     "output_type": "execute_result"
    }
   ],
   "source": [
    "## Python: Get a string made of the first 2 and the last 2 chars from a given a string\n",
    "\n",
    "\n",
    "def weird(string):\n",
    "    if len(string) <2:\n",
    "        return ' '\n",
    "    else:\n",
    "       return string[0:2] + string[-2:]\n",
    "    \n",
    "weird('w3resource')\n"
   ]
  },
  {
   "cell_type": "code",
   "execution_count": 14,
   "metadata": {},
   "outputs": [
    {
     "name": "stdout",
     "output_type": "stream",
     "text": [
      "resta$t\n"
     ]
    }
   ],
   "source": [
    "# Python: Get a string from a given string where all occurrences of its first char have been changed to '$', except the first char itself\n",
    "\n",
    "def swap(string):\n",
    "    char = string[0]\n",
    "\n",
    "    for i in string:\n",
    "        if i == char:\n",
    "            string = string.replace(i, '$')\n",
    "    return char + string[1:]\n",
    "print(swap('restart'))  "
   ]
  },
  {
   "cell_type": "code",
   "execution_count": 18,
   "metadata": {},
   "outputs": [
    {
     "name": "stdout",
     "output_type": "stream",
     "text": [
      "xyc abz\n"
     ]
    }
   ],
   "source": [
    " # Python: Get a single string from two given strings, separated by a space and swap the first two characters of each string\n",
    "\n",
    "def char_mix(a, b):\n",
    "    a1 = b[:2] + a[2:]\n",
    "    b1 = a[:2] + b[2:]\n",
    "    \n",
    "    return a1 + ' ' + b1\n",
    "\n",
    "print(char_mix('abc', 'xyz'))  "
   ]
  },
  {
   "cell_type": "code",
   "execution_count": 2,
   "metadata": {},
   "outputs": [
    {
     "name": "stdout",
     "output_type": "stream",
     "text": [
      "abcing\n"
     ]
    }
   ],
   "source": [
    "# Write a Python program to add 'ing' at the end of a given string (length should be at least 3). If the given string already ends with 'ing' then add 'ly' instead. If the string length of the given string is less than 3, leave it unchanged\n",
    "\n",
    "def edit(string):\n",
    "    if len(string) < 3:\n",
    "        return string\n",
    "    else:\n",
    "        if string[-3:] =='ing':\n",
    "            return string + 'ly'\n",
    "        else:\n",
    "            return string + 'ing'\n",
    "\n",
    "print(edit('abc'))"
   ]
  },
  {
   "cell_type": "code",
   "execution_count": 12,
   "metadata": {},
   "outputs": [
    {
     "name": "stdout",
     "output_type": "stream",
     "text": [
      "The lyrics is good!\n",
      "The lyrics is poor!\n"
     ]
    }
   ],
   "source": [
    "# Find the first appearance of the substring 'not' and 'poor' from a given string, if 'not' follows the 'poor', replace the whole 'not'...'poor' substring with 'good'. Return the resulting string\n",
    "\n",
    "def swap(string):\n",
    "    not_index = string.find('not')\n",
    "    poor_index = string.find('poor')\n",
    "\n",
    "    if not_index >= 0 and poor_index >= 0 and not_index < poor_index:\n",
    "        return string[:not_index] + 'good' + string[poor_index + 4:]\n",
    "    return string\n",
    "    \n",
    "print(swap('The lyrics is not that poor!'))  # Output: 'The lyrics is good!'\n",
    "print(swap('The lyrics is poor!'))          "
   ]
  },
  {
   "cell_type": "code",
   "execution_count": 13,
   "metadata": {},
   "outputs": [
    {
     "name": "stdout",
     "output_type": "stream",
     "text": [
      "('strawberry', 10)\n"
     ]
    }
   ],
   "source": [
    "# Write a Python function that takes a list of words and return the longest word and the length of the longest one\n",
    "\n",
    "def longestWord(words):\n",
    "    longest, length = '', 0\n",
    "\n",
    "    for word in words:\n",
    "        if len(word) > length:\n",
    "            longest = word\n",
    "            length = len(word)\n",
    "    return longest, length\n",
    "\n",
    "words = ['apple', 'banana', 'kiwi', 'strawberry']\n",
    "print(longestWord(words))"
   ]
  },
  {
   "cell_type": "code",
   "execution_count": 15,
   "metadata": {},
   "outputs": [
    {
     "name": "stdout",
     "output_type": "stream",
     "text": [
      "Pyton\n"
     ]
    }
   ],
   "source": [
    "# Write a Python program to remove the nth index character from a nonempty string.\n",
    "\n",
    "def removeChar(str, n):\n",
    "    return str[:n] + str[n+1:]\n",
    "\n",
    "print(removeChar('Python', 3))"
   ]
  },
  {
   "cell_type": "code",
   "execution_count": 16,
   "metadata": {},
   "outputs": [
    {
     "data": {
      "text/plain": [
       "'nythop'"
      ]
     },
     "execution_count": 16,
     "metadata": {},
     "output_type": "execute_result"
    }
   ],
   "source": [
    "# Write a Python program to change a given string to a newly string where the first and last chars have been exchanged.\n",
    "\n",
    "def swapChar(string):\n",
    "    return string[-1] + string[1:-1] + string[0]\n",
    "\n",
    "swapChar('python')"
   ]
  },
  {
   "cell_type": "code",
   "execution_count": 19,
   "metadata": {},
   "outputs": [
    {
     "name": "stdout",
     "output_type": "stream",
     "text": [
      "dvvfrf\n"
     ]
    }
   ],
   "source": [
    "# Write a Python program to remove characters that have odd index values in a given string.\n",
    "\n",
    "def oddRemove(string):\n",
    "    cleanedStr = ''\n",
    "\n",
    "    for i in range(len(string)):\n",
    "        if i % 2 == 0:\n",
    "            cleanedStr += string[i]\n",
    "        else:\n",
    "            continue\n",
    "    return cleanedStr\n",
    "\n",
    "print(oddRemove('dsvsvsffrrfe'))"
   ]
  },
  {
   "cell_type": "code",
   "execution_count": 28,
   "metadata": {},
   "outputs": [
    {
     "name": "stdout",
     "output_type": "stream",
     "text": [
      "{'in': 3, 'a': 4, 'quiet': 1, 'village': 1, 'nestled': 1, 'the': 12, 'valley,': 1, 'there': 1, 'lived': 1, 'wise': 1, 'old': 2, 'man': 2, 'who': 3, 'knew': 1, 'secrets': 1, 'of': 3, 'world.': 2, 'every': 2, 'morning,': 1, 'he': 5, 'would': 1, 'sit': 1, 'under': 1, 'ancient': 1, 'oak': 1, 'tree': 1, 'and': 4, 'tell': 1, 'stories': 3, 'to': 3, 'children': 1, 'gathered': 1, 'around': 1, 'him,': 1, 'brave': 1, 'warriors,': 1, 'magical': 1, 'kingdoms,': 1, 'lessons': 1, 'about': 2, 'life.': 1, 'villagers': 1, 'admired': 1, 'his': 3, 'wisdom,': 1, 'but': 1, 'many': 1, 'wondered': 1, 'how': 1, 'had': 4, 'come': 1, 'know': 1, 'so': 1, 'much': 1, 'some': 1, 'said': 1, 'traveled': 1, 'distant': 1, 'lands,': 1, 'others': 1, 'believed': 1, 'read': 1, 'book': 1, 'ever': 1, 'written,': 1, 'few': 1, 'whispered': 1, 'that': 1, 'been': 1, 'gifted': 1, 'knowledge': 1, 'by': 1, 'gods': 1, 'themselves.': 1, 'whatever': 1, 'truth,': 1, 'remained': 1, 'beloved': 1, 'figure': 1, 'village,': 1, 'shaping': 1, 'dreams': 1, 'aspirations': 1, 'all': 1, 'listened.': 1}\n"
     ]
    }
   ],
   "source": [
    "# Write a Python program to count the occurrences of each word in a given sentence.\n",
    "\n",
    "def wordCount(string):\n",
    "    counts = {}\n",
    "\n",
    "    words = string.strip().split()\n",
    "\n",
    "    for word in words:\n",
    "        word = word.lower()\n",
    "        if word in counts:\n",
    "            counts[word] += 1\n",
    "        else:\n",
    "            counts[word] = 1\n",
    "    return counts\n",
    "\n",
    "#clean_string = re.sub(r\"[^\\w\\s]\", \"\", string_input) -> to clean punctuation\n",
    "\n",
    "\n",
    "text = (\n",
    "    \"In a quiet village nestled in the valley, there lived a wise old man who knew the secrets of the world. \"\n",
    "    \"Every morning, he would sit under the ancient oak tree and tell stories to the children who gathered around him, \"\n",
    "    \"stories of brave warriors, magical kingdoms, and lessons about life. The villagers admired his wisdom, but many \"\n",
    "    \"wondered how he had come to know so much about the world. Some said he had traveled to distant lands, others \"\n",
    "    \"believed he had read every book ever written, and a few whispered that he had been gifted his knowledge by the gods themselves. \"\n",
    "    \"Whatever the truth, the old man remained a beloved figure in the village, his stories shaping the dreams and aspirations of all who listened.\"\n",
    ")\n",
    "print(wordCount(text))"
   ]
  },
  {
   "cell_type": "code",
   "execution_count": 29,
   "metadata": {},
   "outputs": [],
   "source": [
    "#Write a Python script that takes input from the user and displays that input back in upper and lower cases.\n",
    "\n",
    "from sympy import use\n",
    "\n",
    "\n",
    "userInput = input()\n",
    "\n",
    "print(userInput.lower())\n",
    "print(userInput.upper())"
   ]
  },
  {
   "cell_type": "code",
   "execution_count": 31,
   "metadata": {},
   "outputs": [
    {
     "name": "stdout",
     "output_type": "stream",
     "text": [
      " black, green, pink,red\n"
     ]
    }
   ],
   "source": [
    "# Write a Python program that accepts a comma-separated sequence of words as input and prints the distinct words in sorted form (alphanumerically).\n",
    "\n",
    "items = (\"red, black, pink, green\")\n",
    "\n",
    "words = [word for word in items.split(\",\")]\n",
    "\n",
    "print(\",\".join(sorted(list(set(words)))))"
   ]
  },
  {
   "cell_type": "code",
   "execution_count": 32,
   "metadata": {},
   "outputs": [
    {
     "name": "stdout",
     "output_type": "stream",
     "text": [
      "<i>Python</i>\n",
      "<b>Python Tutorial</b>\n"
     ]
    }
   ],
   "source": [
    "#Write a Python function to create an HTML string with tags around the word(s).\n",
    "#Sample function and result :\n",
    "#add_tags('i', 'Python') -> '<i>Python</i>'\n",
    "#add_tags('b', 'Python Tutorial') -> '<b>Python Tutorial </b>'\n",
    "\n",
    "def add_tags(tag, content):\n",
    "    return f\"<{tag}>{content}</{tag}>\"\n",
    "\n",
    "# Test the function\n",
    "print(add_tags('i', 'Python'))\n",
    "print(add_tags('b', 'Python Tutorial'))"
   ]
  },
  {
   "cell_type": "code",
   "execution_count": 33,
   "metadata": {},
   "outputs": [
    {
     "name": "stdout",
     "output_type": "stream",
     "text": [
      "[[Python]]\n",
      "HeWorldllo\n",
      "In a quiet---INSERT--- village n\n"
     ]
    }
   ],
   "source": [
    "# Write a Python function to insert a string in the middle of a string.\n",
    "def insert_middle(original, word_to_insert):\n",
    "    # Find the middle position\n",
    "    mid = len(original) // 2\n",
    "    # Insert the word in the middle\n",
    "    return original[:mid] + word_to_insert + original[mid:]\n",
    "\n",
    "# Test examples\n",
    "print(insert_middle(\"[[]]\", \"Python\"))  # Should print: [[Python]]\n",
    "print(insert_middle(\"Hello\", \"World\"))  # Should print: HeWorldllo\n",
    "\n",
    "# Test with existing variable 'text'\n",
    "# Let's insert a shorter text in the middle of first 20 characters of 'text' as example\n",
    "print(insert_middle(text[:20], \"---INSERT---\"))"
   ]
  },
  {
   "cell_type": "code",
   "execution_count": 35,
   "metadata": {},
   "outputs": [
    {
     "data": {
      "text/plain": [
       "'eseseses'"
      ]
     },
     "execution_count": 35,
     "metadata": {},
     "output_type": "execute_result"
    }
   ],
   "source": [
    "# Write a Python function to get a string made of 4 copies of the last two characters of a specified string (length must be at least 2).\n",
    "\n",
    "def insertEnd(string):\n",
    "    subStr = string[-2:]\n",
    "\n",
    "    return subStr * 4\n",
    "\n",
    "insertEnd('Exercises')"
   ]
  },
  {
   "cell_type": "code",
   "execution_count": 37,
   "metadata": {},
   "outputs": [
    {
     "name": "stdout",
     "output_type": "stream",
     "text": [
      "dcba\n",
      "python\n"
     ]
    }
   ],
   "source": [
    "# Write a Python function to reverse a string if its length is a multiple of 4.\n",
    "\n",
    "def revStr(string):\n",
    "    if len(string) % 4 == 0:\n",
    "        return string[::-1]\n",
    "    else:\n",
    "        return string\n",
    "\n",
    "print(revStr('abcd'))   # Output: 'dcba' (Reversed)\n",
    "print(revStr('python')) # Output: 'python' (Not reversed)\n"
   ]
  },
  {
   "cell_type": "code",
   "execution_count": 38,
   "metadata": {},
   "outputs": [
    {
     "name": "stdout",
     "output_type": "stream",
     "text": [
      "TESTING\n",
      "None\n"
     ]
    }
   ],
   "source": [
    "# Write a Python function to convert a given string to all uppercase if it contains at least 2 uppercase characters in the first 4 characters.\n",
    "\n",
    "def convertString(string):\n",
    "    count = 0\n",
    "    for i in string[0:4]:\n",
    "        if i.isupper():\n",
    "            count += 1\n",
    "    if count >= 2:\n",
    "        return string.upper()\n",
    "    \n",
    "\n",
    "print(convertString(\"TeSting\"))  # Output: \"TESTING\"\n",
    "print(convertString(\"hello\"))    # Output: \"hello\""
   ]
  },
  {
   "cell_type": "code",
   "execution_count": 40,
   "metadata": {},
   "outputs": [
    {
     "name": "stdout",
     "output_type": "stream",
     "text": [
      "3ceeorrsuw\n"
     ]
    }
   ],
   "source": [
    "# Write a Python program to sort a string lexicographically\n",
    "\n",
    "string = input('w3resource')\n",
    "\n",
    "sortedstring = ''.join(sorted(string))\n",
    "\n",
    "print(sortedstring)"
   ]
  },
  {
   "cell_type": "code",
   "execution_count": 43,
   "metadata": {},
   "outputs": [
    {
     "data": {
      "text/plain": [
       "3"
      ]
     },
     "execution_count": 43,
     "metadata": {},
     "output_type": "execute_result"
    }
   ],
   "source": [
    "# Write a Python program to find the maximum length of consecutive 0's in a given binary string.\n",
    "\n",
    "def binCount(string):\n",
    "    return max(map(len, string.split('1')))\n",
    "\n",
    "binCount('111000111')\n"
   ]
  },
  {
   "cell_type": "code",
   "execution_count": 45,
   "metadata": {},
   "outputs": [
    {
     "name": "stdout",
     "output_type": "stream",
     "text": [
      "acdf\n"
     ]
    }
   ],
   "source": [
    "# Write a Python program to find all the common characters in lexicographical order from two given lower case strings. If there are no similar letters print \"No common characters\".\n",
    "\n",
    "def commonCount(a, b):\n",
    "    a1 = set(a)\n",
    "    b1 = set(b)\n",
    "\n",
    "    commonChars = a1.intersection(b1)\n",
    "\n",
    "    if not commonChars:\n",
    "        print('Null')\n",
    "    else:\n",
    "        result = ''.join(sorted(commonChars))\n",
    "        print(result)\n",
    "\n",
    "\n",
    "str1 = \"abcdef\"\n",
    "str2 = \"acdfgh\"\n",
    "\n",
    "commonCount(str1, str2)"
   ]
  },
  {
   "cell_type": "code",
   "execution_count": 48,
   "metadata": {},
   "outputs": [
    {
     "name": "stdout",
     "output_type": "stream",
     "text": [
      "['Write', 'a', 'Python', 'program', 'to', 'convert', 'a', 'given', 'string', 'into', 'a', 'list', 'of', 'words.']\n"
     ]
    }
   ],
   "source": [
    "#Write a Python program to convert a given string into a list of words.\n",
    "\n",
    "def string2list(string):\n",
    "    listWords = string.split(\" \")\n",
    "    print(listWords)\n",
    "\n",
    "string2list('Write a Python program to convert a given string into a list of words.')"
   ]
  },
  {
   "cell_type": "code",
   "execution_count": 50,
   "metadata": {},
   "outputs": [
    {
     "name": "stdout",
     "output_type": "stream",
     "text": [
      "no\n"
     ]
    }
   ],
   "source": [
    "# Write a Python program to check whether a string contains all letters of the alphabet.\n",
    "\n",
    "def letter(string):\n",
    "    alpha = set('abcdefghuijklmnopqrstuvwxyz')\n",
    "\n",
    "    testSet = set(string.lower())\n",
    "\n",
    "    if alpha.issubset(testSet):\n",
    "        print('yes')\n",
    "    else:\n",
    "        print('no')\n",
    "\n",
    "letter('hello wolddds')\n"
   ]
  },
  {
   "cell_type": "code",
   "execution_count": 13,
   "metadata": {},
   "outputs": [
    {
     "name": "stdout",
     "output_type": "stream",
     "text": [
      "['e', 'o', 'o']\n",
      "3\n"
     ]
    }
   ],
   "source": [
    "# Write a Python program to count and display vowels in text.\n",
    "\n",
    "def vowelCheck(string):\n",
    "    vowels = 'aeiou'\n",
    "    count = 0\n",
    "    vow = []\n",
    "    for i in string:\n",
    "        if i.lower() in vowels:\n",
    "            vow.append(i)\n",
    "            count += 1\n",
    "    print(vow)\n",
    "    print(count)\n",
    "\n",
    "vowelCheck(\"Hello World!\")"
   ]
  },
  {
   "cell_type": "code",
   "execution_count": 14,
   "metadata": {},
   "outputs": [],
   "source": [
    "# Write a Python program to find the first non-repeating character in a given string.\n",
    "\n",
    "def firstUnique(string):\n",
    "    charCount = {}\n",
    "\n",
    "    for char in string:\n",
    "        if char in charCount:\n",
    "            charCount[char] += 1\n",
    "        else:\n",
    "            charCount[char] = 1\n",
    "    for char in string:\n",
    "        if charCount[char] == 1:\n",
    "            return char\n",
    "    return None"
   ]
  },
  {
   "cell_type": "code",
   "execution_count": 26,
   "metadata": {},
   "outputs": [
    {
     "data": {
      "text/plain": [
       "('of', 4)"
      ]
     },
     "execution_count": 26,
     "metadata": {},
     "output_type": "execute_result"
    }
   ],
   "source": [
    "# Write a Python program to find the second most repeated word in a given string.\n",
    "\n",
    "import re\n",
    "\n",
    "from sympy import true\n",
    "from traitlets import TraitType\n",
    "\n",
    "def charCount(string):\n",
    "    counts = {}\n",
    "    string = re.sub(r'[^\\w\\s]', '', string)\n",
    "    words = string.strip().split()\n",
    "\n",
    "    for i in words:\n",
    "        i = i.lower()\n",
    "        if i in counts:\n",
    "            counts[i] += 1\n",
    "        else:\n",
    "            counts[i] = 1\n",
    "    \n",
    "    #print(counts)\n",
    "    count_x = sorted(counts.items(), key = lambda x: x[1], reverse=True)\n",
    "\n",
    "    return count_x[1]\n",
    "\n",
    "charCount(\"Both of these issues are fixed by postponing the evaluation of annotations. Instead of compiling code which executes expressions in annotations at their definition time, the compiler stores the annotation in a string form equivalent to the AST of the expression in question. If needed, annotations can be resolved at runtime using typing.get_type_hints(). In the common case where this is not required, the annotations are cheaper to store (since short strings are interned by the interpreter) and make startup time faster.\")"
   ]
  },
  {
   "cell_type": "code",
   "execution_count": 1,
   "metadata": {},
   "outputs": [
    {
     "name": "stdout",
     "output_type": "stream",
     "text": [
      "HellO WorlD PythoN ProgramminG\n"
     ]
    }
   ],
   "source": [
    "# Write a Python program to capitalize the first and last letters of each word in a given string.\n",
    "\n",
    "def caps(string):\n",
    "\n",
    "    words = string.strip().split()\n",
    "    def capw(word):\n",
    "        if len(word) > 1:\n",
    "            return word[0].upper() + word[1:-1] + word[-1].upper()\n",
    "    \n",
    "    cap_words = [capw(word) for word in words]\n",
    "    return \" \".join(cap_words)\n",
    "\n",
    "input_string = \"hello world python programming\"\n",
    "result = caps(input_string)\n",
    "print(result)"
   ]
  },
  {
   "cell_type": "code",
   "execution_count": 6,
   "metadata": {},
   "outputs": [
    {
     "name": "stdout",
     "output_type": "stream",
     "text": [
      "450\n"
     ]
    }
   ],
   "source": [
    "#Write a Python program to compute the sum of the digits in a given string\n",
    "\n",
    "def sumDigits(string):\n",
    "\n",
    "    sumNums = 0\n",
    "\n",
    "    for i in string:\n",
    "        if i.isdigit():\n",
    "            sumNums += int(i)\n",
    "    return sumNums\n",
    "\n",
    "test_string = \"\"\"In 2024, Company XYZ123 reported revenue of $789,456,123 for Q1. \n",
    "The growth rate was 15.7% compared to 2023's Q1 revenue of $682,331,890. \n",
    "The company employed 45,678 people across 123 offices in 89 countries. \n",
    "Project costs were estimated at 234,567,890 EUR with a 9.8% contingency buffer. \n",
    "Customer satisfaction scored 4.9/5 based on 987,654 reviews. \n",
    "The new product line generated 345,678 units in sales with serial numbers ranging from A1B2C3D4E5 to Z9Y8X7W6V5.\n",
    "Contact our 24/7 support at +1-555-0123-4567 or visit us at https://xyz123.com/store90210.\"\"\"\n",
    "\n",
    "print(sumDigits(test_string))"
   ]
  },
  {
   "cell_type": "code",
   "execution_count": 4,
   "metadata": {},
   "outputs": [
    {
     "name": "stdout",
     "output_type": "stream",
     "text": [
      "5\n"
     ]
    }
   ],
   "source": [
    "# Write a Python program to find the maximum length of consecutive 0's in a given binary string.\n",
    "\n",
    "def Zerolen(string):\n",
    "\n",
    "    zeroGroup = str(string).split('1') \n",
    "\n",
    "    maxLen = max(len(group) for group in zeroGroup)\n",
    "    \n",
    "    print(maxLen)\n",
    "\n",
    "Zerolen(110001011100000)"
   ]
  },
  {
   "cell_type": "code",
   "execution_count": 6,
   "metadata": {},
   "outputs": [
    {
     "name": "stdout",
     "output_type": "stream",
     "text": [
      "String 1: hello\n",
      "String 2: world\n",
      "Common chars: ['l', 'o']\n",
      "\n",
      "String 1: python\n",
      "String 2: javascript\n",
      "Common chars: ['p', 't']\n",
      "\n",
      "String 1: aabbcc\n",
      "String 2: abcdef\n",
      "Common chars: ['a', 'b', 'c']\n",
      "\n",
      "String 1: \n",
      "String 2: test\n",
      "Common chars: []\n",
      "\n",
      "String 1: xyz\n",
      "String 2: abc\n",
      "Common chars: []\n",
      "\n",
      "String 1: aaa\n",
      "String 2: aaa\n",
      "Common chars: ['a']\n",
      "\n",
      "String 1: Programming\n",
      "String 2: Learning\n",
      "Common chars: ['a', 'g', 'i', 'n', 'r']\n",
      "\n"
     ]
    }
   ],
   "source": [
    "# Python: Find all the common characters in lexicographical order from two given lower case strings\n",
    "\n",
    "\n",
    "def CommonChars(str1, str2):\n",
    "    set1 = set(str1)\n",
    "    set2 = set(str2)\n",
    "\n",
    "    common = sorted(set1.intersection(set2))\n",
    "\n",
    "    return common\n",
    "\n",
    "test_cases = [\n",
    "    (\"hello\", \"world\"),           # Common: l, o\n",
    "    (\"python\", \"javascript\"),     # Common: a\n",
    "    (\"aabbcc\", \"abcdef\"),        # Common: a, b, c\n",
    "    (\"\", \"test\"),                # Empty string\n",
    "    (\"xyz\", \"abc\"),              # No common chars\n",
    "    (\"aaa\", \"aaa\"),              \n",
    "    (\"Programming\", \"Learning\")\n",
    "]\n",
    "\n",
    "for str1, str2 in test_cases:\n",
    "    result = CommonChars(str1, str2)\n",
    "    print(f\"String 1: {str1}\")\n",
    "    print(f\"String 2: {str2}\")\n",
    "    print(f\"Common chars: {result}\\n\")"
   ]
  },
  {
   "cell_type": "code",
   "execution_count": 14,
   "metadata": {},
   "outputs": [
    {
     "name": "stdout",
     "output_type": "stream",
     "text": [
      "Black Green Pink Red White\n"
     ]
    }
   ],
   "source": [
    "# Write a Python program that returns a string sorted alphabetically by the first character of a given string of words.\n",
    "\n",
    "import re\n",
    "\n",
    "def stringSort(string):\n",
    "\n",
    "    words = string.strip().split()\n",
    "    sortedword = ' '.join(sorted(words))\n",
    "    print(sortedword)\n",
    "\n",
    "word = \"Red Green Black White Pink\"\n",
    "stringSort(word)"
   ]
  },
  {
   "cell_type": "code",
   "execution_count": 16,
   "metadata": {},
   "outputs": [
    {
     "name": "stdout",
     "output_type": "stream",
     "text": [
      "236674684683\n"
     ]
    }
   ],
   "source": [
    "#Write a Python program to calculate the sum of two numbers given as strings. Return the result in the same string representation.\n",
    "\n",
    "def addStr(string1, string2):\n",
    "    num1 = int(string1)\n",
    "    num2 = int(string2)\n",
    "\n",
    "    sumNums = str(num1 + num2)\n",
    "    print(sumNums)\n",
    "\n",
    "addStr(\"234242342341\", \"2432342342\")\n",
    "\n"
   ]
  },
  {
   "cell_type": "code",
   "execution_count": 18,
   "metadata": {},
   "outputs": [
    {
     "name": "stdout",
     "output_type": "stream",
     "text": [
      "The sublist is present in the main list.\n"
     ]
    }
   ],
   "source": [
    "#Write a Python program to check whether a list contains a sublist.\n",
    "\n",
    "def contains_sublist(main_list, sub_list):\n",
    "    # Check if the length of the sub_list is greater than the main_list\n",
    "    if len(sub_list) > len(main_list):\n",
    "        return False\n",
    "    \n",
    "    # Iterate through the main_list to check for the sub_list\n",
    "    for i in range(len(main_list) - len(sub_list) + 1):\n",
    "        if main_list[i:i + len(sub_list)] == sub_list:\n",
    "            return True\n",
    "    return False\n",
    "\n",
    "# Example usage\n",
    "main_list = [1, 2, 3, 4, 5]\n",
    "sub_list = [3, 4]\n",
    "\n",
    "if contains_sublist(main_list, sub_list):\n",
    "    print(\"The sublist is present in the main list.\")\n",
    "else:\n",
    "    print(\"The sublist is not present in the main list.\")"
   ]
  },
  {
   "cell_type": "code",
   "execution_count": 19,
   "metadata": {},
   "outputs": [
    {
     "name": "stdout",
     "output_type": "stream",
     "text": [
      "[[1], [1, 2], [1, 2, 3], [1, 2, 3, 45], [1, 2, 3, 45, 4], [1, 2, 3, 45, 4, 3], [1, 2, 3, 45, 4, 3, 2], [2], [2, 3], [2, 3, 45], [2, 3, 45, 4], [2, 3, 45, 4, 3], [2, 3, 45, 4, 3, 2], [3], [3, 45], [3, 45, 4], [3, 45, 4, 3], [3, 45, 4, 3, 2], [45], [45, 4], [45, 4, 3], [45, 4, 3, 2], [4], [4, 3], [4, 3, 2], [3], [3, 2], [2]]\n"
     ]
    }
   ],
   "source": [
    "# Write a Python program to generate all sublists of a list.\n",
    "\n",
    "def generateSublist(inputList):\n",
    "    sublists = []\n",
    "    for i in range(len(inputList)):\n",
    "        for j in range(i+1, len(inputList) + 1):\n",
    "            sublists.append(inputList[i:j])\n",
    "    \n",
    "    return sublists\n",
    "\n",
    "print(generateSublist([1,2,3,45,4,3,2]))"
   ]
  },
  {
   "cell_type": "code",
   "execution_count": 24,
   "metadata": {},
   "outputs": [
    {
     "name": "stdout",
     "output_type": "stream",
     "text": [
      "{'White', 'Green'}\n"
     ]
    }
   ],
   "source": [
    "# Write a Python program to find common items in two lists.\n",
    "\n",
    "def commonItems(a, b):\n",
    "    \n",
    "    common = set(a) & set(b)\n",
    "    print(common)\n",
    "\n",
    "color1 = \"Red\", \"Green\", \"Orange\", \"White\"\n",
    "color2 = \"Black\", \"Green\", \"White\", \"Pink\"\n",
    "\n",
    "commonItems(color1,color2)\n",
    "\n",
    "def commonItems2(a,b):\n",
    "\n",
    "    common = []\n",
    "    for i in a:\n",
    "        for j in b:\n",
    "            if i == j and i not in common:\n",
    "                common.append(i)\n",
    "    return common\n"
   ]
  },
  {
   "cell_type": "code",
   "execution_count": 23,
   "metadata": {},
   "outputs": [
    {
     "name": "stdout",
     "output_type": "stream",
     "text": [
      "['A1', 'A2', 'A3', 'A4', 'A5', 'A6', 'A7', 'A8', 'A9', 'A10', 'A11', 'A12', 'A13', 'A14', 'A15', 'A16', 'A17', 'A18', 'A19', 'B1', 'B2', 'B3', 'B4', 'B5', 'B6', 'B7', 'B8', 'B9', 'B10', 'B11', 'B12', 'B13', 'B14', 'B15', 'B16', 'B17', 'B18', 'B19', 'C1', 'C2', 'C3', 'C4', 'C5', 'C6', 'C7', 'C8', 'C9', 'C10', 'C11', 'C12', 'C13', 'C14', 'C15', 'C16', 'C17', 'C18', 'C19']\n"
     ]
    }
   ],
   "source": [
    "#Write a Python program to create a list by concatenating a given list with a range from 1 to n.\n",
    "\n",
    "def concatRange(list, n):\n",
    "    return [f\"{item}{i}\" for item in list for i in range(1, n+1)]\n",
    "\n",
    "base_list = [\"A\", \"B\", \"C\"]\n",
    "print(concatRange(base_list, 19))"
   ]
  },
  {
   "cell_type": "code",
   "execution_count": 30,
   "metadata": {},
   "outputs": [
    {
     "name": "stdout",
     "output_type": "stream",
     "text": [
      "113350\n"
     ]
    }
   ],
   "source": [
    "# Write a Python program to convert a list of multiple integers into a single integer.\n",
    "\n",
    "def mergeList(list):\n",
    "\n",
    "    num = int(''.join(map(str,list)))\n",
    "    print(num)\n",
    "\n",
    "L = [11, 33, 50]\n",
    "\n",
    "mergeList(L)"
   ]
  },
  {
   "cell_type": "code",
   "execution_count": 34,
   "metadata": {},
   "outputs": [
    {
     "data": {
      "text/plain": [
       "({'a', 'b', 'c'}, {'g', 'h'})"
      ]
     },
     "execution_count": 34,
     "metadata": {},
     "output_type": "execute_result"
    }
   ],
   "source": [
    "#Write a Python program to find missing and additional values in two lists.\n",
    "\n",
    "def missingValue(a, b):\n",
    "    missing_vals = set(a).difference(b)\n",
    "    additional_vals = set(b).difference(a)\n",
    "    return missing_vals, additional_vals\n",
    "list1 = ['a', 'b', 'c', 'd', 'e', 'f']\n",
    "list2 = ['d', 'e', 'f', 'g', 'h']\n",
    "\n",
    "missingValue(list1,list2)"
   ]
  },
  {
   "cell_type": "code",
   "execution_count": 39,
   "metadata": {},
   "outputs": [
    {
     "data": {
      "text/plain": [
       "[[1, 2, 3, 4, 5],\n",
       " [6, 7, 8, 9, 10],\n",
       " [11, 12, 13, 14, 15],\n",
       " [16, 17, 18, 19, 20],\n",
       " [21, 22, 23, 24, 25],\n",
       " [26, 27, 28, 29, 30],\n",
       " [31, 32, 33, 34, 35],\n",
       " [36, 37, 38, 39, 40],\n",
       " [41, 42, 43, 44, 45],\n",
       " [46, 47, 48, 49, 50],\n",
       " [51, 52, 53, 54, 55],\n",
       " [56, 57, 58, 59, 60],\n",
       " [61, 62, 63, 64, 65],\n",
       " [66, 67, 68, 69, 70],\n",
       " [71, 72, 73, 74, 75],\n",
       " [76, 77, 78, 79, 80],\n",
       " [81, 82, 83, 84, 85],\n",
       " [86, 87, 88, 89, 90],\n",
       " [91, 92, 93, 94, 95],\n",
       " [96, 97, 98, 99, 100]]"
      ]
     },
     "execution_count": 39,
     "metadata": {},
     "output_type": "execute_result"
    }
   ],
   "source": [
    "# Write a Python program to generate groups of five consecutive numbers in a list.\n",
    "\n",
    "def generate_groups(n):\n",
    "    groups = []\n",
    "    for i in range(1, n+1, 5):\n",
    "        group = list(range(i, min(i+5, n+1)))\n",
    "        groups.append(group)\n",
    "    return groups\n",
    "generate_groups(100 )"
   ]
  },
  {
   "cell_type": "code",
   "execution_count": 41,
   "metadata": {},
   "outputs": [
    {
     "data": {
      "text/plain": [
       "[1, 3, 5, 7, 9]"
      ]
     },
     "execution_count": 41,
     "metadata": {},
     "output_type": "execute_result"
    }
   ],
   "source": [
    "#Write a Python program to select the odd items from a list.\n",
    "\n",
    "def odd(list):\n",
    "    oddList = []\n",
    "    for i in list:\n",
    "        if i % 2 != 0:\n",
    "            oddList.append(i)\n",
    "    return oddList\n",
    "\n",
    "x = [1, 2, 3, 4, 5, 6, 7, 8, 9]\n",
    "odd(x)"
   ]
  },
  {
   "cell_type": "code",
   "execution_count": 13,
   "metadata": {},
   "outputs": [
    {
     "name": "stdout",
     "output_type": "stream",
     "text": [
      "[1, 2, 3, 4, 5, 0, 0, 0]\n"
     ]
    }
   ],
   "source": [
    "# Write a Python program to move all zero digits to the end of a given list of numbers\n",
    "\n",
    "def zeroSort(list):\n",
    "\n",
    "    nonzero = [i for i in list if i != 0]\n",
    "    zerocount = list.count(0)\n",
    "\n",
    "    result = nonzero + [0] * zerocount\n",
    "\n",
    "    return result\n",
    "\n",
    "zeroSort([1, 0, 2, 3, 0, 4, 5, 0])\n",
    "\n",
    "# using iterations\n",
    "\n",
    "def zero_iter(lst):\n",
    "    result = []  # This will hold the non-zero elements\n",
    "    for i in lst:\n",
    "        if i != 0:\n",
    "            result.append(i)  # Add non-zero elements to result\n",
    "    \n",
    "    # Fill the remaining length with zeros\n",
    "    while len(result) < len(lst):\n",
    "        result.append(0)\n",
    "    \n",
    "    return result\n",
    "\n",
    "numbers = [1, 0, 2, 3, 0, 4, 5, 0]\n",
    "print(zero_iter(numbers))"
   ]
  },
  {
   "cell_type": "code",
   "execution_count": 15,
   "metadata": {},
   "outputs": [
    {
     "data": {
      "text/plain": [
       "(33, [10, 11, 12])"
      ]
     },
     "execution_count": 15,
     "metadata": {},
     "output_type": "execute_result"
    }
   ],
   "source": [
    "#Write a Python program to find the list in a list of lists whose sum of elements is the highest.\n",
    "\n",
    "def maxSum(list):\n",
    "    i = 0\n",
    "    j = []\n",
    "\n",
    "    for sublist in list:\n",
    "        if sum(sublist) > i:\n",
    "            i = sum(sublist)\n",
    "            j = sublist\n",
    "    return i,j\n",
    "    #return max(list, key =sum)\n",
    "\n",
    "num = [[1, 2, 3], [4, 5, 6], [10, 11, 12], [7, 8, 9]]\n",
    "maxSum(num)"
   ]
  },
  {
   "cell_type": "code",
   "execution_count": 17,
   "metadata": {},
   "outputs": [
    {
     "data": {
      "text/plain": [
       "[330, 500]"
      ]
     },
     "execution_count": 17,
     "metadata": {},
     "output_type": "execute_result"
    }
   ],
   "source": [
    "#Write a Python program to find all the values in a list that are greater than a specified number.\n",
    "\n",
    "def largerNum(list,n):\n",
    "    larger = []\n",
    "    for i in list:\n",
    "        if i > n:\n",
    "            larger.append(i)\n",
    "    return larger\n",
    "\n",
    "list1 = [220, 330, 500]\n",
    "largerNum(list1, 250)"
   ]
  },
  {
   "cell_type": "code",
   "execution_count": 20,
   "metadata": {},
   "outputs": [
    {
     "data": {
      "text/plain": [
       "[[7, 8, 9], [1, 2, 3], [4, 5, 6]]"
      ]
     },
     "execution_count": 20,
     "metadata": {},
     "output_type": "execute_result"
    }
   ],
   "source": [
    "#Write a Python program to remove duplicates from a list of lists.\n",
    "\n",
    "def unique(lst):\n",
    "    uniqueList = list(set(tuple(inner) for inner in lst))\n",
    "    return [list(inner_tuple) for inner_tuple in uniqueList]\n",
    "\n",
    "input_list = [[1, 2, 3], [4, 5, 6], [1, 2, 3], [7, 8, 9], [4, 5, 6]]\n",
    "unique(input_list)"
   ]
  },
  {
   "cell_type": "code",
   "execution_count": 26,
   "metadata": {},
   "outputs": [
    {
     "data": {
      "text/plain": [
       "['Apple', 'Apricot']"
      ]
     },
     "execution_count": 26,
     "metadata": {},
     "output_type": "execute_result"
    }
   ],
   "source": [
    "#Write a Python program to find items starting with a specific character from a list.\n",
    "\n",
    "def find_items(items, char):\n",
    "    if not items or not char:\n",
    "        return []\n",
    "    char = str(char).lower()\n",
    "    match = [item for item in items if str(item).lower().startswith(char)]\n",
    "\n",
    "    return match\n",
    "\n",
    "items = [\"Apple\", \"Banana\", \"Apricot\", \"Cherry\"]\n",
    "char = 'a'\n",
    "find_items(items,char)\n"
   ]
  },
  {
   "cell_type": "code",
   "execution_count": 27,
   "metadata": {},
   "outputs": [],
   "source": [
    "#Write a Python program to flatten a given nested list structure.\n",
    "\n",
    "import numpy as np\n",
    "\n",
    "def flattedNp(lst):\n",
    "    return list(np.array(lst).flatten())\n",
    "\n",
    "def flatten(lst):\n",
    "    return [item for sublist in lst\n",
    "            for item in (flatten(sublist))]"
   ]
  },
  {
   "cell_type": "code",
   "execution_count": 30,
   "metadata": {},
   "outputs": [
    {
     "name": "stdout",
     "output_type": "stream",
     "text": [
      "Is the list [1, 2, 3, 4] sorted? True\n",
      "Is the list [3, 1, 4, 2] sorted? False\n"
     ]
    }
   ],
   "source": [
    "#Write a Python program to check whether a specified list is sorted or not.\n",
    "\n",
    "\n",
    "def sorted_check(input_listlist):\n",
    "    sortedList = sorted(input_listlist)\n",
    "    if input_listlist == sortedList:\n",
    "        return True\n",
    "    else:\n",
    "        return False\n",
    "    \n",
    "example_list = [1, 2, 3, 4]\n",
    "print(f\"Is the list {example_list} sorted? {sorted_check(example_list)}\")\n",
    "\n",
    "example_list = [3, 1, 4, 2]\n",
    "print(f\"Is the list {example_list} sorted? {sorted_check(example_list)}\")"
   ]
  },
  {
   "cell_type": "code",
   "execution_count": 16,
   "metadata": {},
   "outputs": [
    {
     "data": {
      "text/plain": [
       "[5, 5, 5, -7]"
      ]
     },
     "execution_count": 16,
     "metadata": {},
     "output_type": "execute_result"
    }
   ],
   "source": [
    "# Write a Python program to find the difference between consecutive numbers in a given list.\n",
    "\n",
    "def find_diff(lst):\n",
    "    n = len(lst)\n",
    "\n",
    "    if n < 2:\n",
    "        raise ValueError(\"Lst should contain atleast 2 elements\")\n",
    "    \n",
    "    return [lst[i+1] - lst[i] for i in range(n-1)]\n",
    "\n",
    "numbers = [10, 15, 20, 25, 18]\n",
    "find_diff(numbers)"
   ]
  },
  {
   "cell_type": "code",
   "execution_count": 3,
   "metadata": {},
   "outputs": [
    {
     "data": {
      "text/plain": [
       "720000000"
      ]
     },
     "execution_count": 3,
     "metadata": {},
     "output_type": "execute_result"
    }
   ],
   "source": [
    "#Write a Python program to calculate the product of the unique numbers in a given list.\n",
    "\n",
    "def unique_prod(lst):\n",
    "    cleaned = set(lst)\n",
    "    prod = 1\n",
    "\n",
    "    for i in cleaned:\n",
    "        prod *= i\n",
    "    \n",
    "    return prod\n",
    "\n",
    "lst  = [10, 20, 30, 40, 20, 50, 60, 40]\n",
    "\n",
    "unique_prod(lst)"
   ]
  },
  {
   "cell_type": "code",
   "execution_count": 6,
   "metadata": {},
   "outputs": [
    {
     "data": {
      "text/plain": [
       "36"
      ]
     },
     "execution_count": 6,
     "metadata": {},
     "output_type": "execute_result"
    }
   ],
   "source": [
    "#Write a Python program to calculate the sum of the numbers in a list between the indices of a specified range.\n",
    "\n",
    "def rangeSum(lst, m, n):\n",
    "    sum_range = 0\n",
    "    for i in range(m,n+1,1):\n",
    "        sum_range += i\n",
    "    \n",
    "    return sum_range\n",
    "\n",
    "nums = [2, 1, 5, 6, 8, 3, 4, 9, 10, 11, 8, 12]\n",
    "\n",
    "rangeSum(nums, 1, 8)"
   ]
  },
  {
   "cell_type": "code",
   "execution_count": 7,
   "metadata": {},
   "outputs": [
    {
     "name": "stdout",
     "output_type": "stream",
     "text": [
      "[1, 10, 12, 19, 'blue', 'green', 'green', 'red', 'white']\n"
     ]
    }
   ],
   "source": [
    "#Write a Python program to sort a given mixed list of integers and strings. Numbers must be sorted before strings.\n",
    "\n",
    "def sortData(lst):\n",
    "    num_list = []\n",
    "    char_list = []\n",
    "    for i in lst:\n",
    "        if type(i) == int:\n",
    "             num_list.append(i)\n",
    "        else:\n",
    "            char_list.append(i)\n",
    "    final_list = sorted(num_list) + sorted(char_list)\n",
    "    print(final_list)\n",
    "\n",
    "mixed_list = [19, 'red', 12, 'green', 'blue', 10, 'white', 'green', 1]\n",
    "sortData(mixed_list)"
   ]
  },
  {
   "cell_type": "code",
   "execution_count": 11,
   "metadata": {},
   "outputs": [
    {
     "name": "stdout",
     "output_type": "stream",
     "text": [
      "[1, 3, 5, 7, 9, 2, 4, 6, 8]\n"
     ]
    }
   ],
   "source": [
    "#Write a Python program to replace the last element in a list with another list.\n",
    "\n",
    "num1 = [1, 3, 5, 7, 9, 10]\n",
    "num2 = [2, 4, 6, 8]\n",
    "\n",
    "num1[-1:] = num2\n",
    "\n",
    "print(num1)"
   ]
  },
  {
   "cell_type": "code",
   "execution_count": 23,
   "metadata": {},
   "outputs": [
    {
     "name": "stdout",
     "output_type": "stream",
     "text": [
      "['hynotP', 'islt', 'issxeeerc', 'iepaccrt', 'ntulsoio']\n"
     ]
    }
   ],
   "source": [
    "#Write a Python program to scramble the letters of a string in a given list.\n",
    "\n",
    "from random import shuffle\n",
    "\n",
    "def shuffler(lst):\n",
    "    lst2 = []\n",
    "    for i in lst:\n",
    "        char_list = list(i)\n",
    "        shuffle(char_list)\n",
    "        shuffled_word = ''.join(char_list)\n",
    "        lst2.append(shuffled_word)\n",
    "    print(lst2)\n",
    "\n",
    "text_list = ['Python', 'list', 'exercises', 'practice', 'solution']\n",
    "shuffler(text_list)"
   ]
  },
  {
   "cell_type": "code",
   "execution_count": 25,
   "metadata": {},
   "outputs": [
    {
     "data": {
      "text/plain": [
       "(5, 2)"
      ]
     },
     "execution_count": 25,
     "metadata": {},
     "output_type": "execute_result"
    }
   ],
   "source": [
    "#Write a Python program to find the maximum and minimum values in a given heterogeneous list.\n",
    "\n",
    "def minmax(lst):\n",
    "    max_val = max(i for i in lst if isinstance(i, int))\n",
    "    min_val = min(i for i in lst if isinstance(i, int))\n",
    "    return (max_val, min_val)\n",
    "\n",
    "list_val = ['Python', 3, 2, 4, 5, 'version']\n",
    "minmax(list_val)\n"
   ]
  },
  {
   "cell_type": "code",
   "execution_count": 26,
   "metadata": {},
   "outputs": [
    {
     "data": {
      "text/plain": [
       "[1, 7]"
      ]
     },
     "execution_count": 26,
     "metadata": {},
     "output_type": "execute_result"
    }
   ],
   "source": [
    "#Write a Python program to extract common index elements from more than one given list.\n",
    "\n",
    "import comm\n",
    "\n",
    "\n",
    "def commonElements(*lsts):\n",
    "    if len(lsts) < 2:\n",
    "        return []\n",
    "    min_length = min(len(lst) for lst in lsts)\n",
    "\n",
    "    result = []\n",
    "    for i in range(min_length):\n",
    "        element = lsts[0][i] #the ith element in the 0th row, the first list in this 2d datastruct\n",
    "        if all(lst[i] == element for lst in lsts[1:]):\n",
    "            result.append(element)\n",
    "    return result\n",
    "\n",
    "nums1 = [1, 1, 3, 4, 5, 6, 7]\n",
    "nums2 = [0, 1, 2, 3, 4, 5, 7]\n",
    "nums3 = [0, 1, 2, 3, 4, 5, 7]\n",
    "\n",
    "commonElements(nums1, nums2, nums3)\n"
   ]
  },
  {
   "cell_type": "code",
   "execution_count": 4,
   "metadata": {},
   "outputs": [
    {
     "name": "stdout",
     "output_type": "stream",
     "text": [
      "[[2, 2, 2], [3, 4, 1], [1, 6, 2], [7, 1, 1]]\n"
     ]
    },
    {
     "data": {
      "text/plain": [
       "[[2, 2, 2], [3, 4, 1], [1, 6, 2], [7, 1, 1]]"
      ]
     },
     "execution_count": 4,
     "metadata": {},
     "output_type": "execute_result"
    }
   ],
   "source": [
    "#Write a Python program to sort a given matrix in ascending order according to the sum of its rows.\n",
    "\n",
    "def sortMatrix(matrix):\n",
    "    sorted_max = sorted(matrix, key = sum)\n",
    "    print(sorted_max)\n",
    "\n",
    "def sortedMatrix(matrix):\n",
    "    row_sum = [(sum(row), row) for row in matrix]\n",
    "\n",
    "    sorted_pairs = sorted(row_sum, key=lambda x: x[0])\n",
    "\n",
    "    sorted_matrix = [row for _,row in sorted_pairs]\n",
    "\n",
    "    return sorted_matrix\n",
    "\n",
    "matrix = [\n",
    "    [3, 4, 1],\n",
    "    [1, 6, 2],\n",
    "    [7, 1, 1],\n",
    "    [2, 2, 2]\n",
    "]\n",
    "sortMatrix(matrix)\n",
    "sortedMatrix(matrix)"
   ]
  },
  {
   "cell_type": "code",
   "execution_count": null,
   "metadata": {},
   "outputs": [],
   "source": [
    "#Write a Python program to remove all elements from a given list that are present in another list.\n",
    "\n",
    "def index_remove\\\n",
    "]\n",
    "\n",
    "\n",
    "1|1\n",
    "1|1\n",
    "0|0\n",
    "2|2\n",
    "|\n",
    "2|2\n",
    "0|0\n",
    "|\n",
    "|3"
   ]
  }
 ],
 "metadata": {
  "kernelspec": {
   "display_name": "Python 3",
   "language": "python",
   "name": "python3"
  },
  "language_info": {
   "codemirror_mode": {
    "name": "ipython",
    "version": 3
   },
   "file_extension": ".py",
   "mimetype": "text/x-python",
   "name": "python",
   "nbconvert_exporter": "python",
   "pygments_lexer": "ipython3",
   "version": "3.9.6"
  }
 },
 "nbformat": 4,
 "nbformat_minor": 2
}
