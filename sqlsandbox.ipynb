{
 "cells": [
  {
   "cell_type": "code",
   "execution_count": 5,
   "metadata": {},
   "outputs": [
    {
     "name": "stdout",
     "output_type": "stream",
     "text": [
      "Loaded Salesperson.csv into table Salesperson\n",
      "Loaded SalespersonRegion.csv into table SalespersonRegion\n",
      "Loaded Region.csv into table Region\n",
      "Loaded Reseller.csv into table Reseller\n",
      "Loaded Targets.csv into table Targets\n",
      "Loaded Product.csv into table Product\n",
      "Loaded Sales.csv into table Sales\n"
     ]
    }
   ],
   "source": [
    "import sqlite3\n",
    "import os\n",
    "import pandas as pd\n",
    "\n",
    "# Specify the folder containing the CSV files\n",
    "folder_path = '/Users/vedantwalia/Desktop/Projects sandbox/archive'\n",
    "\n",
    "# Initialize SQLite connection\n",
    "conn = sqlite3.connect('database.db')\n",
    "cursor = conn.cursor()\n",
    "\n",
    "# Process each CSV file in the folder\n",
    "for file_name in os.listdir(folder_path):\n",
    "    if file_name.endswith('.csv'):\n",
    "        # Construct the full file path\n",
    "        file_path = os.path.join(folder_path, file_name)\n",
    "        \n",
    "        # Derive the table name from the file name (excluding the .csv extension)\n",
    "        table_name = os.path.splitext(file_name)[0]\n",
    "        \n",
    "        try:\n",
    "            # Read the CSV file into a Pandas DataFrame\n",
    "            df = pd.read_csv(file_path, on_bad_lines='skip', engine='python')\n",
    "            \n",
    "            # Load the DataFrame into the SQLite database\n",
    "            df.to_sql(table_name, conn, if_exists='replace', index=False)\n",
    "            print(f\"Loaded {file_name} into table {table_name}\")\n",
    "        \n",
    "        except pd.errors.ParserError as e:\n",
    "            print(f\"Error parsing {file_name}: {e}\")\n",
    "        except Exception as e:\n",
    "            print(f\"An error occurred with {file_name}: {e}\")\n",
    "\n",
    "# Close the SQLite connection\n",
    "conn.close()"
   ]
  },
  {
   "cell_type": "code",
   "execution_count": 6,
   "metadata": {},
   "outputs": [
    {
     "name": "stdout",
     "output_type": "stream",
     "text": [
      "Tables in the database: [('Salesperson',), ('SalespersonRegion',), ('Region',), ('Reseller',), ('Targets',), ('Product',), ('Sales',)]\n"
     ]
    }
   ],
   "source": [
    "import sqlite3\n",
    "\n",
    "# Connect to the database\n",
    "conn = sqlite3.connect('database.db')\n",
    "cursor = conn.cursor()\n",
    "# List all tables\n",
    "cursor.execute(\"SELECT name FROM sqlite_master WHERE type='table';\")\n",
    "tables = cursor.fetchall()\n",
    "print(\"Tables in the database:\", tables)"
   ]
  },
  {
   "cell_type": "code",
   "execution_count": 9,
   "metadata": {},
   "outputs": [
    {
     "ename": "OperationalError",
     "evalue": "no such table: employee",
     "output_type": "error",
     "traceback": [
      "\u001b[0;31m---------------------------------------------------------------------------\u001b[0m",
      "\u001b[0;31mOperationalError\u001b[0m                          Traceback (most recent call last)",
      "Cell \u001b[0;32mIn[9], line 1\u001b[0m\n\u001b[0;32m----> 1\u001b[0m \u001b[43mcursor\u001b[49m\u001b[38;5;241;43m.\u001b[39;49m\u001b[43mexecute\u001b[49m\u001b[43m(\u001b[49m\u001b[38;5;124;43m\"\u001b[39;49m\u001b[38;5;124;43mSELECT * FROM employee;\u001b[39;49m\u001b[38;5;124;43m\"\u001b[39;49m\u001b[43m)\u001b[49m\n\u001b[1;32m      2\u001b[0m rows \u001b[38;5;241m=\u001b[39m cursor\u001b[38;5;241m.\u001b[39mfetchall()  \u001b[38;5;66;03m# Fetch all rows\u001b[39;00m\n\u001b[1;32m      3\u001b[0m \u001b[38;5;28;01mfor\u001b[39;00m row \u001b[38;5;129;01min\u001b[39;00m rows:\n",
      "\u001b[0;31mOperationalError\u001b[0m: no such table: employee"
     ]
    }
   ],
   "source": [
    "\n",
    "cursor.execute(\"SELECT * FROM employee;\")\n",
    "rows = cursor.fetchall()  # Fetch all rows\n",
    "for row in rows:\n",
    "    print(row)"
   ]
  },
  {
   "cell_type": "code",
   "execution_count": 5,
   "metadata": {
    "vscode": {
     "languageId": "sql"
    }
   },
   "outputs": [
    {
     "ename": "SyntaxError",
     "evalue": "invalid syntax (2317058864.py, line 1)",
     "output_type": "error",
     "traceback": [
      "\u001b[0;36m  Cell \u001b[0;32mIn[5], line 1\u001b[0;36m\u001b[0m\n\u001b[0;31m    SELECT DATE_PART(\"Year\", orderdate), sum(totaldue)\u001b[0m\n\u001b[0m           ^\u001b[0m\n\u001b[0;31mSyntaxError\u001b[0m\u001b[0;31m:\u001b[0m invalid syntax\n"
     ]
    }
   ],
   "source": [
    "/*\n",
    " From the following table write a query in SQL to retrieve the total sales for each year. Filter the result set for those orders where order year is on or before 2016. Return the year part of orderdate and total due amount. Sort the result in ascending order on year part of order date.\n",
    "\n",
    "salesorderid|revisionnumber|orderdate              |duedate                |shipdate               |status|onlineorderflag|purchaseordernumber|accountnumber |customerid|salespersonid|territoryid|billtoaddressid|shiptoaddressid|shipmethodid|creditcardid|creditcardapprovalcode|currencyrateid|subtotal   |taxamt    |freight  |totaldue   |comment|rowguid                             |modifieddate           |\n",
    "------------+--------------+-----------------------+-----------------------+-----------------------+------+---------------+-------------------+--------------+----------+-------------+-----------+---------------+---------------+------------+------------+----------------------+--------------+-----------+----------+---------+-----------+-------+------------------------------------+-----------------------+\n",
    "       43659|             8|2011-05-31 00:00:00.000|2011-06-12 00:00:00.000|2011-06-07 00:00:00.000|     5|false          |PO522145787        |10-4020-000676|     29825|          279|          5|            985|            985|           5|       16281|105041Vi84182         |              | 20565.6206| 1971.5149| 616.0984| 23153.2339|       |79b65321-39ca-4115-9cba-8fe0903e12e6|2011-06-07 00:00:00.000|\n",
    "       43660|             8|2011-05-31 00:00:00.000|2011-06-12 00:00:00.000|2011-06-07 00:00:00.000|     5|false          |PO18850127500      |10-4020-000117|     29672|          279|          5|            921|            921|           5|        5618|115213Vi29411         |              |  1294.2529|  124.2483|  38.8276|  1457.3288|       |738dc42d-d03b-48a1-9822-f95a67ea7389|2011-06-07 00:00:00.000|\n",
    "       43661|             8|2011-05-31 00:00 \n",
    "*/\n",
    "\n",
    "SELECT DATE_PART(\"Year\", orderdate), sum(totaldue)\n",
    "FROM Sales.SalesOrderHeader\n",
    "--WHERE DATE_PART('Year', orderdate) <= 2016 both are correct\n",
    "GROUP BY DATE_PART('Year', orderdate)\n",
    "HAVING DATE_PART('Year', orderdate) <= 2016\n",
    "ORDER BY DATE_PART('Year', orderdate) asc;\n",
    "\n"
   ]
  },
  {
   "cell_type": "code",
   "execution_count": null,
   "metadata": {
    "vscode": {
     "languageId": "sql"
    }
   },
   "outputs": [],
   "source": [
    "/* From the following tables write a query in SQL to make a list of contacts who are designated as 'Purchasing Manager'. Return BusinessEntityID, LastName, and FirstName columns. Sort the result set in ascending order of LastName, and FirstName.\n",
    "\n",
    "Person.BusinessEntityContact\n",
    "businessentityid|personid|contacttypeid|rowguid                             |modifieddate           |\n",
    "----------------+--------+-------------+------------------------------------+-----------------------+\n",
    "             292|     291|           11|7d4d2dbc-4a44-48f5-911d-a63abafd5120|2017-12-13 13:21:02.243|\n",
    "             294|     293|           11|3ea25b65-9579-4260-977d-d6f00d7d20ee|2017-12-13 13:21:02.320\n",
    "\n",
    "             Sample table: Person.ContactType\n",
    "contacttypeid|name                           |modifieddate           |\n",
    "-------------+-------------------------------+-----------------------+\n",
    "            1|Accounting Manager             |2008-04-30 00:00:00.000|\n",
    "            2|Assistant Sales Agent          |2008-04-30 00:00:00.000|\n",
    "\n",
    "Sample table: Person.Person\n",
    "businessentityid|persontype|namestyle|title|firstname               |middlename      |lastname              |suffix|emailpromotion|additionalcontactinfo|demographics|rowguid                             |modifieddate           |\n",
    "----------------+----------+---------+-----+------------------------+----------------+----------------------+------+--------------+---------------------+------------+------------------------------------+-----------------------+\n",
    "               1|EM        |false    |     |Ken                     |J               |Sánchez               |      |             0|                     |[XML]       |92c4279f-1207-48a3-8448-4636514eb7e2|2009-01-07 00:00:00.000|\n",
    "\n",
    "\n",
    "*/\n",
    "\n",
    "SELECT businessentityid, lastname, firstname\n",
    "FROM Person.BusinessEntityContact as pb\n",
    "JOIN Person.ContactType as pc\n",
    "ON pb.businessentityid = pc.businessentityid\n",
    "JOIN Person.Person as pp\n",
    "ON pp.businessentityid = pb.businessentityid\n",
    "WHERE pc.name = \"Purchasing Manager\"\n",
    "ORDER By lastname, firstname ASC\n",
    "\n"
   ]
  },
  {
   "cell_type": "markdown",
   "metadata": {},
   "source": []
  }
 ],
 "metadata": {
  "kernelspec": {
   "display_name": "Python 3",
   "language": "python",
   "name": "python3"
  },
  "language_info": {
   "codemirror_mode": {
    "name": "ipython",
    "version": 3
   },
   "file_extension": ".py",
   "mimetype": "text/x-python",
   "name": "python",
   "nbconvert_exporter": "python",
   "pygments_lexer": "ipython3",
   "version": "3.9.6"
  }
 },
 "nbformat": 4,
 "nbformat_minor": 2
}
